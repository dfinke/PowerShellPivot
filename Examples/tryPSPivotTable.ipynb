{
 "cells": [
  {
   "cell_type": "code",
   "execution_count": null,
   "metadata": {
    "dotnet_interactive": {
     "language": "pwsh"
    }
   },
   "outputs": [],
   "source": [
    "$url = 'https://gist.githubusercontent.com/alexdebrie/b3f40efc3dd7664df5a20f5eee85e854/raw/ee3e6feccba2464cbbc2e185fb17961c53d2a7f5/stocks.csv'\n",
    "$data=ConvertFrom-Csv (Invoke-RestMethod $url)"
   ]
  },
  {
   "cell_type": "code",
   "execution_count": null,
   "metadata": {
    "dotnet_interactive": {
     "language": "pwsh"
    }
   },
   "outputs": [
    {
     "name": "stdout",
     "output_type": "stream",
     "text": [
      "\r\n",
      "date       symbol open    high    low     close   volume\r\n",
      "----       ------ ----    ----    ---     -----   ------\r\n",
      "2019-03-01 AMZN   1655.13 1674.26 1651.0  1671.73 4974877\r\n",
      "2019-03-04 AMZN   1685.0  1709.43 1674.36 1696.17 6167358\r\n",
      "2019-03-05 AMZN   1702.95 1707.8  1689.01 1692.43 3681522\r\n",
      "2019-03-06 AMZN   1695.97 1697.75 1668.28 1668.95 3996001\r\n",
      "2019-03-07 AMZN   1667.37 1669.75 1620.51 1625.95 4957017\r\n",
      "\r\n"
     ]
    }
   ],
   "source": [
    "$data | select -First 5 | ft"
   ]
  },
  {
   "cell_type": "code",
   "execution_count": null,
   "metadata": {
    "dotnet_interactive": {
     "language": "pwsh"
    }
   },
   "outputs": [
    {
     "name": "stdout",
     "output_type": "stream",
     "text": [
      "\r\n",
      "date       symbol open    high    low     close   volume\r\n",
      "----       ------ ----    ----    ---     -----   ------\r\n",
      "2019-03-01 GOOG   1124.9  1142.97 1124.75 1140.99 1450316\r\n",
      "2019-03-04 GOOG   1146.99 1158.28 1130.69 1147.8  1446047\r\n",
      "2019-03-05 GOOG   1150.06 1169.61 1146.19 1162.03 1443174\r\n",
      "2019-03-06 GOOG   1162.49 1167.57 1155.49 1157.86 1099289\r\n",
      "2019-03-07 GOOG   1155.72 1156.76 1134.91 1143.3  1166559\r\n",
      "\r\n"
     ]
    }
   ],
   "source": [
    "$data | select -Last 5 | ft"
   ]
  },
  {
   "cell_type": "code",
   "execution_count": null,
   "metadata": {
    "dotnet_interactive": {
     "language": "pwsh"
    }
   },
   "outputs": [
    {
     "name": "stdout",
     "output_type": "stream",
     "text": [
      "Entries: 15\r\n",
      "Columns:  7\r\n",
      "\r\n",
      "\r\n",
      "ColumnName NonNull DataType\r\n",
      "---------- ------- --------\r\n",
      "date            15 datetime\r\n",
      "symbol          15 string\r\n",
      "open            15 double\r\n",
      "high            15 double\r\n",
      "low             15 double\r\n",
      "close           15 double\r\n",
      "volume          15 int\r\n",
      "\r\n",
      "\r\n",
      "datetime(1) double(4) int(1) string(1)\r\n"
     ]
    }
   ],
   "source": [
    "Get-DataInfo $data"
   ]
  },
  {
   "cell_type": "code",
   "execution_count": null,
   "metadata": {
    "dotnet_interactive": {
     "language": "pwsh"
    }
   },
   "outputs": [
    {
     "name": "stdout",
     "output_type": "stream",
     "text": [
      "\r\n",
      "date       Average_open Average_high Average_low Average_close Average_volume\r\n",
      "----       ------------ ------------ ----------- ------------- --------------\r\n",
      "2019-03-01       984.77       997.46      982.88       995.897   10770453.333\r\n",
      "2019-03-04      1002.56     1015.153     993.007      1006.607   11683202.667\r\n",
      "2019-03-05      1009.65     1017.803    1003.247      1009.997    8287371.667\r\n",
      "2019-03-06     1011.043     1013.603     999.237      1000.443    8635224.667\r\n",
      "2019-03-07      998.987     1000.317     975.813       980.583       10306650\r\n",
      "\r\n"
     ]
    }
   ],
   "source": [
    "New-PSPivotTable -InputObject $data date | ft"
   ]
  },
  {
   "cell_type": "code",
   "execution_count": null,
   "metadata": {
    "dotnet_interactive": {
     "language": "pwsh"
    }
   },
   "outputs": [
    {
     "name": "stdout",
     "output_type": "stream",
     "text": [
      "\r\n",
      "date       min_open max_open min_high max_high min_low max_low min_close max_close min_volume\r\n",
      "----       -------- -------- -------- -------- ------- ------- --------- --------- ----------\r\n",
      "2019-03-01   174.28  1655.13   175.15  1674.26  172.89    1651    174.97   1671.73    1450316\r\n",
      "2019-03-04   175.69     1685   177.75  1709.43  173.97 1674.36    175.85   1696.17    1446047\r\n",
      "2019-03-05   175.94  1702.95      176   1707.8  174.54 1689.01    175.53   1692.43    1443174\r\n",
      "2019-03-06   174.67  1695.97   175.49  1697.75  173.94 1668.28    174.52   1668.95    1099289\r\n",
      "2019-03-07   173.87  1667.37   174.44  1669.75  172.02 1620.51     172.5   1625.95    1166559\r\n",
      "\r\n"
     ]
    }
   ],
   "source": [
    "New-PSPivotTable -InputObject $data date -agg min, max | ft"
   ]
  },
  {
   "cell_type": "code",
   "execution_count": null,
   "metadata": {
    "dotnet_interactive": {
     "language": "pwsh"
    }
   },
   "outputs": [
    {
     "name": "stdout",
     "output_type": "stream",
     "text": [
      "\r\n",
      "symbol min_open max_open min_high max_high min_low max_low min_close max_close min_volume\r\n",
      "------ -------- -------- -------- -------- ------- ------- --------- --------- ----------\r\n",
      "AAPL     173.87   175.94   174.44   177.75  172.02  174.54     172.5    175.85   19737419\r\n",
      "AMZN    1655.13  1702.95  1669.75  1709.43 1620.51 1689.01   1625.95   1696.17    3681522\r\n",
      "GOOG     1124.9  1162.49  1142.97  1169.61 1124.75 1155.49   1140.99   1162.03    1099289\r\n",
      "\r\n"
     ]
    }
   ],
   "source": [
    "New-PSPivotTable -InputObject $data symbol -agg min, max | ft"
   ]
  }
 ],
 "metadata": {
  "kernelspec": {
   "display_name": ".NET (PowerShell)",
   "language": "PowerShell",
   "name": ".net-pwsh"
  },
  "language_info": {
   "name": "PowerShell"
  }
 },
 "nbformat": 4,
 "nbformat_minor": 2
}
