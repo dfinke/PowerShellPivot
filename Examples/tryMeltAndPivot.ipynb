{
 "cells": [
  {
   "cell_type": "code",
   "execution_count": null,
   "metadata": {
    "dotnet_interactive": {
     "language": "pwsh"
    }
   },
   "outputs": [],
   "source": [
    "$data = ConvertFrom-Csv @\"\n",
    "day,chicago,florida,texas\n",
    "Monday,32,75,41\n",
    "Tuesday,30,77,43\n",
    "Wednesday,28,75,45\n",
    "Thursday,22,82,38\n",
    "Friday,30,83,30\n",
    "Saturday,20,81,45\n",
    "Sunday,25,77,47\n",
    "\"@"
   ]
  },
  {
   "cell_type": "code",
   "execution_count": null,
   "metadata": {
    "dotnet_interactive": {
     "language": "pwsh"
    }
   },
   "outputs": [
    {
     "name": "stdout",
     "output_type": "stream",
     "text": [
      "\r\n",
      "day       chicago florida texas\r\n",
      "---       ------- ------- -----\r\n",
      "Monday    32      75      41\r\n",
      "Tuesday   30      77      43\r\n",
      "Wednesday 28      75      45\r\n",
      "Thursday  22      82      38\r\n",
      "Friday    30      83      30\r\n",
      "Saturday  20      81      45\r\n",
      "Sunday    25      77      47\r\n",
      "\r\n"
     ]
    }
   ],
   "source": [
    "$data"
   ]
  },
  {
   "cell_type": "code",
   "execution_count": null,
   "metadata": {
    "dotnet_interactive": {
     "language": "pwsh"
    }
   },
   "outputs": [
    {
     "name": "stdout",
     "output_type": "stream",
     "text": [
      "\r\n",
      "day       Average_chicago Average_florida Average_texas\r\n",
      "---       --------------- --------------- -------------\r\n",
      "Friday                 30              83            30\r\n",
      "Monday                 32              75            41\r\n",
      "Saturday               20              81            45\r\n",
      "Sunday                 25              77            47\r\n",
      "Thursday               22              82            38\r\n",
      "Tuesday                30              77            43\r\n",
      "Wednesday              28              75            45\r\n",
      "\r\n"
     ]
    }
   ],
   "source": [
    "$data | New-PSPivotTable day"
   ]
  },
  {
   "cell_type": "code",
   "execution_count": null,
   "metadata": {
    "dotnet_interactive": {
     "language": "pwsh"
    }
   },
   "outputs": [
    {
     "name": "stdout",
     "output_type": "stream",
     "text": [
      "\r\n",
      "day       variable value\r\n",
      "---       -------- -----\r\n",
      "Monday    chicago  32\r\n",
      "Monday    florida  75\r\n",
      "Monday    texas    41\r\n",
      "Tuesday   chicago  30\r\n",
      "Tuesday   florida  77\r\n",
      "Tuesday   texas    43\r\n",
      "Wednesday chicago  28\r\n",
      "Wednesday florida  75\r\n",
      "Wednesday texas    45\r\n",
      "Thursday  chicago  22\r\n",
      "Thursday  florida  82\r\n",
      "Thursday  texas    38\r\n",
      "Friday    chicago  30\r\n",
      "Friday    florida  83\r\n",
      "Friday    texas    30\r\n",
      "Saturday  chicago  20\r\n",
      "Saturday  florida  81\r\n",
      "Saturday  texas    45\r\n",
      "Sunday    chicago  25\r\n",
      "Sunday    florida  77\r\n",
      "Sunday    texas    47\r\n",
      "\r\n"
     ]
    }
   ],
   "source": [
    "$data | Invoke-PSMelt day"
   ]
  },
  {
   "cell_type": "code",
   "execution_count": null,
   "metadata": {
    "dotnet_interactive": {
     "language": "pwsh"
    }
   },
   "outputs": [
    {
     "name": "stdout",
     "output_type": "stream",
     "text": [
      "\r\n",
      "day       Average_value\r\n",
      "---       -------------\r\n",
      "Friday           47.667\r\n",
      "Monday           49.333\r\n",
      "Saturday         48.667\r\n",
      "Sunday           49.667\r\n",
      "Thursday         47.333\r\n",
      "Tuesday              50\r\n",
      "Wednesday        49.333\r\n",
      "\r\n"
     ]
    }
   ],
   "source": [
    "$data | Invoke-PSMelt day | New-PSPivotTable day"
   ]
  },
  {
   "cell_type": "code",
   "execution_count": null,
   "metadata": {
    "dotnet_interactive": {
     "language": "pwsh"
    }
   },
   "outputs": [
    {
     "name": "stdout",
     "output_type": "stream",
     "text": [
      "\r\n",
      "day       Average_value\r\n",
      "---       -------------\r\n",
      "Friday           47.667\r\n",
      "Monday           49.333\r\n",
      "Saturday         48.667\r\n",
      "Sunday           49.667\r\n",
      "Thursday         47.333\r\n",
      "Tuesday              50\r\n",
      "Wednesday        49.333\r\n",
      "\r\n"
     ]
    }
   ],
   "source": [
    "$data | psm day | psp day"
   ]
  },
  {
   "cell_type": "code",
   "execution_count": null,
   "metadata": {
    "dotnet_interactive": {
     "language": "pwsh"
    }
   },
   "outputs": [
    {
     "name": "stdout",
     "output_type": "stream",
     "text": [
      "\r\n",
      "day             mean_value min_value max_value\r\n",
      "---             ---------- --------- ---------\r\n",
      "Friday    47.6666666666667        30        83\r\n",
      "Monday    49.3333333333333        32        75\r\n",
      "Saturday  48.6666666666667        20        81\r\n",
      "Sunday    49.6666666666667        25        77\r\n",
      "Thursday  47.3333333333333        22        82\r\n",
      "Tuesday                 50        30        77\r\n",
      "Wednesday 49.3333333333333        28        75\r\n",
      "\r\n"
     ]
    }
   ],
   "source": [
    "$data | Invoke-PSMelt day | New-PSPivotTable day -agg mean, min, max"
   ]
  }
 ],
 "metadata": {
  "kernelspec": {
   "display_name": ".NET (PowerShell)",
   "language": "PowerShell",
   "name": ".net-pwsh"
  },
  "language_info": {
   "name": "PowerShell"
  }
 },
 "nbformat": 4,
 "nbformat_minor": 2
}
