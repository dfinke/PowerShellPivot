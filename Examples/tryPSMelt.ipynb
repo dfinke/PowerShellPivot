{
 "cells": [
  {
   "cell_type": "code",
   "execution_count": null,
   "metadata": {
    "dotnet_interactive": {
     "language": "pwsh"
    }
   },
   "outputs": [],
   "source": [
    "$url = 'https://gist.githubusercontent.com/alexdebrie/b3f40efc3dd7664df5a20f5eee85e854/raw/ee3e6feccba2464cbbc2e185fb17961c53d2a7f5/stocks.csv'\n",
    "$data=ConvertFrom-Csv (Invoke-RestMethod $url)"
   ]
  },
  {
   "cell_type": "code",
   "execution_count": null,
   "metadata": {
    "dotnet_interactive": {
     "language": "pwsh"
    }
   },
   "outputs": [
    {
     "name": "stdout",
     "output_type": "stream",
     "text": [
      "\r\n",
      "date       symbol open    high    low    close   volume\r\n",
      "----       ------ ----    ----    ---    -----   ------\r\n",
      "2019-03-01 AMZN   1655.13 1674.26 1651.0 1671.73 4974877\r\n",
      "\r\n"
     ]
    }
   ],
   "source": [
    "$data | select -First 1 | ft"
   ]
  },
  {
   "cell_type": "code",
   "execution_count": null,
   "metadata": {
    "dotnet_interactive": {
     "language": "pwsh"
    }
   },
   "outputs": [
    {
     "name": "stdout",
     "output_type": "stream",
     "text": [
      "\r\n",
      "variable value\r\n",
      "-------- -----\r\n",
      "date     2019-03-01\r\n",
      "symbol   AMZN\r\n",
      "open     1655.13\r\n",
      "high     1674.26\r\n",
      "low      1651.0\r\n",
      "close    1671.73\r\n",
      "volume   4974877\r\n",
      "\r\n"
     ]
    }
   ],
   "source": [
    "$data | select -First 1 | Invoke-PSMelt"
   ]
  },
  {
   "cell_type": "code",
   "execution_count": null,
   "metadata": {
    "dotnet_interactive": {
     "language": "pwsh"
    }
   },
   "outputs": [
    {
     "name": "stdout",
     "output_type": "stream",
     "text": [
      "\r\n",
      "date       variable value\r\n",
      "----       -------- -----\r\n",
      "2019-03-01 symbol   AMZN\r\n",
      "2019-03-01 high     1674.26\r\n",
      "2019-03-01 low      1651.0\r\n",
      "\r\n"
     ]
    }
   ],
   "source": [
    "$data | select -First 1 | Invoke-PSMelt date -ExcludeProperty volume,open,close"
   ]
  },
  {
   "cell_type": "code",
   "execution_count": null,
   "metadata": {
    "dotnet_interactive": {
     "language": "pwsh"
    }
   },
   "outputs": [
    {
     "name": "stdout",
     "output_type": "stream",
     "text": [
      "\r\n",
      "date       variable value\r\n",
      "----       -------- -----\r\n",
      "2019-03-01 symbol   AMZN\r\n",
      "2019-03-01 high     1674.26\r\n",
      "2019-03-01 low      1651.0\r\n",
      "\r\n"
     ]
    }
   ],
   "source": [
    "$data | select -First 1 | Invoke-PSMelt date symbol, high, low"
   ]
  },
  {
   "cell_type": "code",
   "execution_count": null,
   "metadata": {
    "dotnet_interactive": {
     "language": "pwsh"
    }
   },
   "outputs": [
    {
     "name": "stdout",
     "output_type": "stream",
     "text": [
      "\r\n",
      "variable value\r\n",
      "-------- -----\r\n",
      "Date     2019-03-01\r\n",
      "Symbol   AMZN\r\n",
      "High     1674.26\r\n",
      "Date     2019-03-04\r\n",
      "Symbol   AMZN\r\n",
      "High     1709.43\r\n",
      "Date     2019-03-05\r\n",
      "Symbol   AMZN\r\n",
      "High     1707.8\r\n",
      "Date     2019-03-06\r\n",
      "Symbol   AMZN\r\n",
      "High     1697.75\r\n",
      "Date     2019-03-07\r\n",
      "Symbol   AMZN\r\n",
      "High     1669.75\r\n",
      "\r\n"
     ]
    }
   ],
   "source": [
    "$data | select -First 5 | Invoke-PSMelt -ExcludeProperty .* -Vars Date,Symbol,High"
   ]
  }
 ],
 "metadata": {
  "kernelspec": {
   "display_name": ".NET (PowerShell)",
   "language": "PowerShell",
   "name": ".net-pwsh"
  },
  "language_info": {
   "name": "PowerShell"
  }
 },
 "nbformat": 4,
 "nbformat_minor": 2
}
