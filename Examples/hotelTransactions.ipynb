{
 "cells": [
  {
   "cell_type": "markdown",
   "metadata": {},
   "source": [
    "- via [DataIndependent](https://www.youtube.com/watch?v=DCqWZ0DGVqw&ab_channel=DataIndependent)\n",
    "- investigate [Ryan Noonan](https://www.youtube.com/watch?v=qOkj5zOHwRE&ab_channel=RyanNoonan)"
   ]
  },
  {
   "cell_type": "code",
   "execution_count": null,
   "metadata": {
    "dotnet_interactive": {
     "language": "pwsh"
    }
   },
   "outputs": [],
   "source": [
    "$data = ConvertFrom-Csv @\"\n",
    "Name,8/4/2020,8/5/2020,8/6/2020,8/8/2020\n",
    "Liho Liho,143,29,71,139\n",
    "Tompkins,136,82,69,132\n",
    "The Square,49,141,143,186\n",
    "Chambers,195,27,100,70\n",
    "\"@"
   ]
  },
  {
   "cell_type": "code",
   "execution_count": null,
   "metadata": {
    "dotnet_interactive": {
     "language": "pwsh"
    }
   },
   "outputs": [
    {
     "name": "stdout",
     "output_type": "stream",
     "text": [
      "\r\n",
      "name       variable value\r\n",
      "----       -------- -----\r\n",
      "Liho Liho  8/4/2020 143\r\n",
      "Tompkins   8/4/2020 136\r\n",
      "The Square 8/4/2020 49\r\n",
      "Chambers   8/4/2020 195\r\n",
      "Liho Liho  8/5/2020 29\r\n",
      "Tompkins   8/5/2020 82\r\n",
      "The Square 8/5/2020 141\r\n",
      "Chambers   8/5/2020 27\r\n",
      "\r\n"
     ]
    }
   ],
   "source": [
    "psm -InputObject $data name 8/4/2020,8/5/2020"
   ]
  },
  {
   "cell_type": "code",
   "execution_count": null,
   "metadata": {
    "dotnet_interactive": {
     "language": "pwsh"
    }
   },
   "outputs": [
    {
     "name": "stdout",
     "output_type": "stream",
     "text": [
      "\r\n",
      "name       8/4/2020 8/5/2020 variable value\r\n",
      "----       -------- -------- -------- -----\r\n",
      "Liho Liho  143      29       8/6/2020 71\r\n",
      "Liho Liho  143      29       8/8/2020 139\r\n",
      "Tompkins   136      82       8/6/2020 69\r\n",
      "Tompkins   136      82       8/8/2020 132\r\n",
      "The Square 49       141      8/6/2020 143\r\n",
      "The Square 49       141      8/8/2020 186\r\n",
      "Chambers   195      27       8/6/2020 100\r\n",
      "Chambers   195      27       8/8/2020 70\r\n",
      "\r\n"
     ]
    }
   ],
   "source": [
    "# psm -InputObject $data name,8/4/2020,8/5/2020 | ft\n",
    "$data | psm name,8/4/2020,8/5/2020 | ft"
   ]
  },
  {
   "cell_type": "code",
   "execution_count": null,
   "metadata": {
    "dotnet_interactive": {
     "language": "pwsh"
    }
   },
   "outputs": [
    {
     "name": "stdout",
     "output_type": "stream",
     "text": [
      "\r\n",
      "name       Date     TransactionAmount\r\n",
      "----       ----     -----------------\r\n",
      "Liho Liho  8/4/2020 143\r\n",
      "Tompkins   8/4/2020 136\r\n",
      "The Square 8/4/2020 49\r\n",
      "Chambers   8/4/2020 195\r\n",
      "Liho Liho  8/5/2020 29\r\n",
      "Tompkins   8/5/2020 82\r\n",
      "The Square 8/5/2020 141\r\n",
      "Chambers   8/5/2020 27\r\n",
      "Liho Liho  8/6/2020 71\r\n",
      "Tompkins   8/6/2020 69\r\n",
      "The Square 8/6/2020 143\r\n",
      "Chambers   8/6/2020 100\r\n",
      "Liho Liho  8/8/2020 139\r\n",
      "Tompkins   8/8/2020 132\r\n",
      "The Square 8/8/2020 186\r\n",
      "Chambers   8/8/2020 70\r\n",
      "\r\n"
     ]
    }
   ],
   "source": [
    "psm -InputObject $data name -VarName Date -ValueName TransactionAmount"
   ]
  },
  {
   "cell_type": "code",
   "execution_count": null,
   "metadata": {
    "dotnet_interactive": {
     "language": "pwsh"
    }
   },
   "outputs": [],
   "source": [
    "$dataCategory = ConvertFrom-Csv @\"\n",
    "Category,0 to 100,101 to 200,201 to 300\n",
    "A,1,10,100\n",
    "B,2,20,200\n",
    "C,3,30,300\n",
    "D,4,40,400\n",
    "E,5,50,500\n",
    "\"@"
   ]
  },
  {
   "cell_type": "code",
   "execution_count": null,
   "metadata": {
    "dotnet_interactive": {
     "language": "pwsh"
    }
   },
   "outputs": [
    {
     "name": "stdout",
     "output_type": "stream",
     "text": [
      "\r\n",
      "Category variable   value\r\n",
      "-------- --------   -----\r\n",
      "A        0 to 100   1\r\n",
      "B        0 to 100   2\r\n",
      "C        0 to 100   3\r\n",
      "D        0 to 100   4\r\n",
      "E        0 to 100   5\r\n",
      "A        101 to 200 10\r\n",
      "B        101 to 200 20\r\n",
      "C        101 to 200 30\r\n",
      "D        101 to 200 40\r\n",
      "E        101 to 200 50\r\n",
      "A        201 to 300 100\r\n",
      "B        201 to 300 200\r\n",
      "C        201 to 300 300\r\n",
      "D        201 to 300 400\r\n",
      "E        201 to 300 500\r\n",
      "\r\n"
     ]
    }
   ],
   "source": [
    "psm -InputObject $dataCategory Category"
   ]
  }
 ],
 "metadata": {
  "kernelspec": {
   "display_name": ".NET (PowerShell)",
   "language": "PowerShell",
   "name": ".net-pwsh"
  },
  "language_info": {
   "name": "PowerShell"
  }
 },
 "nbformat": 4,
 "nbformat_minor": 2
}
