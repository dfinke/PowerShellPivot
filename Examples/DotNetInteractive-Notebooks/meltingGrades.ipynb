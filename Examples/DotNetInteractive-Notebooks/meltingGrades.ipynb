{
 "cells": [
  {
   "cell_type": "markdown",
   "metadata": {},
   "source": [
    "# Melting Data\n",
    "[Inpired By](https://stackoverflow.com/questions/68961796/how-do-i-melt-a-pandas-dataframe) "
   ]
  },
  {
   "cell_type": "code",
   "execution_count": null,
   "metadata": {
    "dotnet_interactive": {
     "language": "pwsh"
    }
   },
   "outputs": [],
   "source": [
    "$data = ConvertFrom-Csv @\"\n",
    "Name,Math,English,Age\n",
    "Bob,A+,C,13\n",
    "John,B,B,16\n",
    "Foo,A,B,16\n",
    "Bar,F,A+,15\n",
    "Alex,D,F,15\n",
    "Tom,C,A,13\n",
    "\"@"
   ]
  },
  {
   "cell_type": "code",
   "execution_count": null,
   "metadata": {
    "dotnet_interactive": {
     "language": "pwsh"
    }
   },
   "outputs": [
    {
     "name": "stdout",
     "output_type": "stream",
     "text": [
      "\r\n",
      "Name Age Subject Grade\r\n",
      "---- --- ------- -----\r\n",
      "Bob  13  English C\r\n",
      "John 16  English B\r\n",
      "Foo  16  English B\r\n",
      "Bar  15  English A+\r\n",
      "Alex 15  English F\r\n",
      "Tom  13  English A\r\n",
      "Bob  13  Math    A+\r\n",
      "John 16  Math    B\r\n",
      "Foo  16  Math    A\r\n",
      "Bar  15  Math    F\r\n",
      "Alex 15  Math    D\r\n",
      "Tom  13  Math    C\r\n",
      "\r\n"
     ]
    }
   ],
   "source": [
    "$data | psm  Name, Age -VarName Subject -ValueName Grade | Sort-Object Subject"
   ]
  },
  {
   "cell_type": "code",
   "execution_count": null,
   "metadata": {
    "dotnet_interactive": {
     "language": "pwsh"
    }
   },
   "outputs": [
    {
     "name": "stdout",
     "output_type": "stream",
     "text": [
      "\r\n",
      "Name Age Subject Grade\r\n",
      "---- --- ------- -----\r\n",
      "Bob  13  Math    A+\r\n",
      "John 16  Math    B\r\n",
      "Foo  16  Math    A\r\n",
      "Bar  15  Math    F\r\n",
      "Alex 15  Math    D\r\n",
      "Tom  13  Math    C\r\n",
      "\r\n"
     ]
    }
   ],
   "source": [
    "$data | psm  Name, Age -VarName Subject -ValueName Grade | ? Subject -eq 'Math'"
   ]
  },
  {
   "cell_type": "code",
   "execution_count": null,
   "metadata": {
    "dotnet_interactive": {
     "language": "pwsh"
    }
   },
   "outputs": [
    {
     "name": "stdout",
     "output_type": "stream",
     "text": [
      "\r\n",
      "Grade Name            Subjects\r\n",
      "----- ----            --------\r\n",
      "A     Foo, Tom        Math, English\r\n",
      "A+    Bob, Bar        Math, English\r\n",
      "B     John, John, Foo Math, English, English\r\n",
      "C     Bob, Tom        English, Math\r\n",
      "D     Alex            Math\r\n",
      "F     Bar, Alex       Math, English\r\n",
      "\r\n"
     ]
    }
   ],
   "source": [
    "$data |\n",
    "    Invoke-PSMelt  Name, Age -VarName Subject -ValueName Grade |\n",
    "    Group-Object Grade | ForEach-Object {\n",
    "        [PSCustomObject][ordered]@{\n",
    "            Grade    = $_.Name\n",
    "            Name     = $_.Group.Name -join ', '\n",
    "            Subjects = $_.Group.Subject -join ', '\n",
    "        }\n",
    "    }\n"
   ]
  },
  {
   "cell_type": "code",
   "execution_count": null,
   "metadata": {
    "dotnet_interactive": {
     "language": "pwsh"
    }
   },
   "outputs": [
    {
     "name": "stdout",
     "output_type": "stream",
     "text": [
      "\r\n",
      "Column  value\r\n",
      "------  -----\r\n",
      "Age     16\r\n",
      "Age     15\r\n",
      "Age     15\r\n",
      "Age     16\r\n",
      "Age     13\r\n",
      "Age     13\r\n",
      "English A+\r\n",
      "English B\r\n",
      "English B\r\n",
      "English A\r\n",
      "English F\r\n",
      "English C\r\n",
      "Math    C\r\n",
      "Math    A+\r\n",
      "Math    D\r\n",
      "Math    B\r\n",
      "Math    F\r\n",
      "Math    A\r\n",
      "Name    Alex\r\n",
      "Name    Bar\r\n",
      "Name    Tom\r\n",
      "Name    Foo\r\n",
      "Name    John\r\n",
      "Name    Bob\r\n",
      "\r\n"
     ]
    }
   ],
   "source": [
    "$data | psm -VarName Column | Sort-Object column"
   ]
  }
 ],
 "metadata": {
  "kernelspec": {
   "display_name": ".NET (C#)",
   "language": "C#",
   "name": ".net-csharp"
  },
  "language_info": {
   "file_extension": ".cs",
   "mimetype": "text/x-csharp",
   "name": "C#",
   "pygments_lexer": "csharp",
   "version": "9.0"
  },
  "orig_nbformat": 4
 },
 "nbformat": 4,
 "nbformat_minor": 2
}
