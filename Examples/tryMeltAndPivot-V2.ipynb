{
 "cells": [
  {
   "cell_type": "markdown",
   "metadata": {},
   "source": [
    "# Melting and pivoting data \n",
    "With some display examples for .Net Interactive notebooks. \n"
   ]
  },
  {
   "cell_type": "markdown",
   "metadata": {},
   "source": [
    "## Setup the data"
   ]
  },
  {
   "cell_type": "code",
   "execution_count": null,
   "metadata": {
    "dotnet_interactive": {
     "language": "pwsh"
    }
   },
   "outputs": [],
   "source": [
    "Import-Module ..\\PowerShellPivot.psd1 -Force\n",
    "$data = ConvertFrom-Csv @\"\n",
    "Day,Location,Cucumber,Tomato,Lettuce,Asparagus,Potato\n",
    "Monday,London,46,35,41,49,30\n",
    "Tuesday,London,30,26,36,38,27\n",
    "Wednesday,London,25,26,27,31,30\n",
    "Thursday,London,47,32,44,21,37\n",
    "Friday,London,38,40,35,27,39\n",
    "Saturday,London,32,29,39,32,31\n",
    "Sunday,London,28,31,37,29,39\n",
    "Monday,Edinburgh,29,26,36,25,35\n",
    "Tuesday,Edinburgh,44,48,32,26,28\n",
    "Wednesday,Edinburgh,46,43,38,41,26\n",
    "Thursday,Edinburgh,39,39,36,31,20\n",
    "Friday,Edinburgh,36,38,47,30,24\n",
    "Saturday,Edinburgh,33,27,39,47,39\n",
    "Sunday,Edinburgh,43,42,35,37,28\n",
    "Monday,Glasgow,29,30,25,29,47\n",
    "Tuesday,Glasgow,32,36,46,38,22\n",
    "Wednesday,Glasgow,20,33,26,44,27\n",
    "Thursday,Glasgow,21,29,25,35,46\n",
    "Friday,Glasgow,39,36,45,28,32\n",
    "Saturday,Glasgow,22,34,33,33,29\n",
    "Sunday,Glasgow,27,23,29,24,24\n",
    "Monday,Birmingham,27,34,49,35,31\n",
    "Tuesday,Birmingham,39,41,41,31,20\n",
    "Wednesday,Birmingham,33,46,28,40,47\n",
    "Thursday,Birmingham,21,46,38,29,20\n",
    "Friday,Birmingham,31,32,21,32,31\n",
    "Saturday,Birmingham,44,20,46,26,29\n",
    "Sunday,Birmingham,47,41,42,23,29\n",
    "Monday,Cardiff,34,37,40,30,41\n",
    "Tuesday,Cardiff,47,41,26,24,49\n",
    "Wednesday,Cardiff,27,40,38,26,32\n",
    "Thursday,Cardiff,29,28,43,26,22\n",
    "Friday,Cardiff,21,43,23,37,27\n",
    "Saturday,Cardiff,42,44,47,38,47\n",
    "Sunday,Cardiff,37,31,21,28,26\n",
    "\"@"
   ]
  },
  {
   "cell_type": "markdown",
   "metadata": {},
   "source": [
    "## A random sample of the data looks like..."
   ]
  },
  {
   "cell_type": "code",
   "execution_count": null,
   "metadata": {
    "dotnet_interactive": {
     "language": "pwsh"
    }
   },
   "outputs": [
    {
     "name": "stdout",
     "output_type": "stream",
     "text": [
      "\r\n",
      "Day       Location   Cucumber Tomato Lettuce Asparagus Potato\u001b[0m\r\n",
      "---       --------   -------- ------ ------- --------- ------\u001b[0m\r\n",
      "Wednesday Cardiff    27       40     38      26        32\r\n",
      "Sunday    Birmingham 47       41     42      23        29\r\n",
      "Thursday  London     47       32     44      21        37\r\n",
      "Saturday  Birmingham 44       20     46      26        29\r\n",
      "Tuesday   Birmingham 39       41     41      31        20\r\n",
      "Thursday  Cardiff    29       28     43      26        22\r\n",
      "Saturday  London     32       29     39      32        31\r\n",
      "Tuesday   London     30       26     36      38        27\r\n",
      "Monday    Glasgow    29       30     25      29        47\r\n",
      "Tuesday   Glasgow    32       36     46      38        22\r\n",
      "\r\n"
     ]
    }
   ],
   "source": [
    "$data |  Get-Random -Count 10 | Format-Table"
   ]
  },
  {
   "cell_type": "markdown",
   "metadata": {
    "dotnet_interactive": {
     "language": "pwsh"
    }
   },
   "source": [
    "## This data is shown in 2 dimensions for human reading...\n",
    "\n",
    "We have the products as a column headings, we've grouped the data by location and then by day - as a report we might have page breaks between locations. \n",
    "We can add totals to each column (product), and give subtotals per location as in the next cell (or change the sort order and have subtotals per day as in the cell after that)"
   ]
  },
  {
   "cell_type": "code",
   "execution_count": null,
   "metadata": {
    "dotnet_interactive": {
     "language": "pwsh"
    }
   },
   "outputs": [
    {
     "name": "stdout",
     "output_type": "stream",
     "text": [
      "\r\n",
      "Location   Average_Cucumber Average_Tomato Average_Lettuce Average_Asparagus Average_Potato\u001b[0m\r\n",
      "--------   ---------------- -------------- --------------- ----------------- --------------\u001b[0m\r\n",
      "Birmingham           34.571         37.143          37.857            30.857         29.571\r\n",
      "Cardiff              33.857         37.714              34            29.857         34.857\r\n",
      "Edinburgh            38.571         37.571          37.571            33.857         28.571\r\n",
      "Glasgow              27.143         31.571          32.714                33         32.429\r\n",
      "London               35.143         31.286              37            32.429         33.286\r\n",
      "\r\n"
     ]
    }
   ],
   "source": [
    "$data | New-PSPivotTable -Index Location -ExcludeValues Location | Format-Table "
   ]
  },
  {
   "cell_type": "code",
   "execution_count": null,
   "metadata": {
    "dotnet_interactive": {
     "language": "pwsh"
    }
   },
   "outputs": [
    {
     "name": "stdout",
     "output_type": "stream",
     "text": [
      "\r\n",
      "Day       Average_Cucumber Average_Tomato Average_Lettuce Average_Asparagus Average_Potato\u001b[0m\r\n",
      "---       ---------------- -------------- --------------- ----------------- --------------\u001b[0m\r\n",
      "Friday                  33           37.8            34.2              30.8           30.6\r\n",
      "Monday                  33           32.4            38.2              33.6           36.8\r\n",
      "Saturday              34.6           30.8            40.8              35.2             35\r\n",
      "Sunday                36.4           33.6            32.8              28.2           29.2\r\n",
      "Thursday              31.4           34.8            37.2              28.4             29\r\n",
      "Tuesday               38.4           38.4            36.2              31.4           29.2\r\n",
      "Wednesday             30.2           37.6            31.4              36.4           32.4\r\n",
      "\r\n"
     ]
    }
   ],
   "source": [
    "$data | New-PSPivotTable -Index Day -ExcludeValues Location | Format-Table"
   ]
  },
  {
   "cell_type": "markdown",
   "metadata": {},
   "source": [
    "What we can't do with the data like this is change from a page per location with products as column headings, to one with a page per product and locations as column headings. "
   ]
  },
  {
   "cell_type": "markdown",
   "metadata": {},
   "source": [
    "## Combining \\[product\\] columns can be an issue... \n",
    "If we know what the columns (products) are we can add have a formula to calculate Lettuce + Cucumber + Tomato,    \n",
    "if not, it helps to \"melt\" this data getting it back from the 2D presentation to a more a ; And if one location files as days down and products across and another    \n",
    "products down and days across we can merge them by melting first. \n",
    "\n",
    "**The next cell melts data and both stores it and shows a random selection**"
   ]
  },
  {
   "cell_type": "code",
   "execution_count": null,
   "metadata": {
    "dotnet_interactive": {
     "language": "pwsh"
    }
   },
   "outputs": [
    {
     "name": "stdout",
     "output_type": "stream",
     "text": [
      "\r\n",
      "Day       location   Product   Sales\u001b[0m\r\n",
      "---       --------   -------   -----\u001b[0m\r\n",
      "Tuesday   Cardiff    Potato    49\r\n",
      "Sunday    Glasgow    Asparagus 24\r\n",
      "Saturday  Birmingham Tomato    20\r\n",
      "Monday    Cardiff    Tomato    37\r\n",
      "Friday    Edinburgh  Potato    24\r\n",
      "Sunday    Cardiff    Cucumber  37\r\n",
      "Thursday  Edinburgh  Potato    20\r\n",
      "Saturday  Birmingham Asparagus 26\r\n",
      "Sunday    Birmingham Asparagus 23\r\n",
      "Wednesday Cardiff    Cucumber  27\r\n",
      "\r\n"
     ]
    }
   ],
   "source": [
    "#melt the data and keep the result in 'DataToPivot' but output a few random rws as well\n",
    "$data | Invoke-PSMelt -Id Day, location -ValueName Sales -VarName Product -OutVariable DataToPivot  | Get-Random -Count 10 | ft"
   ]
  },
  {
   "cell_type": "markdown",
   "metadata": {},
   "source": [
    "## 'Melted' Data is easier to work with"
   ]
  },
  {
   "cell_type": "code",
   "execution_count": null,
   "metadata": {
    "dotnet_interactive": {
     "language": "pwsh"
    }
   },
   "outputs": [
    {
     "name": "stdout",
     "output_type": "stream",
     "text": [
      "\r\n",
      "Day       Average_Sales Min_Sales Max_Sales\u001b[0m\r\n",
      "---       ------------- --------- ---------\u001b[0m\r\n",
      "Friday               35        21        47\r\n",
      "Monday           34.533        25        49\r\n",
      "Saturday           35.4        20        47\r\n",
      "Sunday           34.267        21        47\r\n",
      "Thursday         34.467        21        47\r\n",
      "Tuesday          37.667        26        48\r\n",
      "Wednesday        33.067        20        46\r\n",
      "\r\n"
     ]
    }
   ],
   "source": [
    "$dataToPivot | where {$_.product -in @('Lettuce','Cucumber','Tomato')} | New-PSPivotTable Day -Agg Average, Min, Max "
   ]
  },
  {
   "cell_type": "code",
   "execution_count": null,
   "metadata": {
    "dotnet_interactive": {
     "language": "pwsh"
    }
   },
   "outputs": [
    {
     "name": "stdout",
     "output_type": "stream",
     "text": [
      "\r\n",
      "Day       Average_Sales Min_Sales Max_Sales\u001b[0m\r\n",
      "---       ------------- --------- ---------\u001b[0m\r\n",
      "Sunday           34.267        21        47\r\n",
      "Monday           34.533        25        49\r\n",
      "Tuesday          37.667        26        48\r\n",
      "Wednesday        33.067        20        46\r\n",
      "Thursday         34.467        21        47\r\n",
      "Friday               35        21        47\r\n",
      "Saturday           35.4        20        47\r\n",
      "\r\n"
     ]
    }
   ],
   "source": [
    "#parameters for a function later , we already have $DataToPivot from the previous cell \n",
    "$PivotBy     = 'Day' \n",
    "$aggFunction = 'Average', 'Min', 'Max' \n",
    "\n",
    "$pivoted     = $dataToPivot | where {$_.product -in @('Lettuce','Cucumber','Tomato')} | New-PSPivotTable $PivotBy -agg $aggFunction  \n",
    "$pivoted     = foreach ($day in (Get-Culture).DateTimeFormat.DayNames) {$pivoted | Where-Object -Property Day -eq $day}\n",
    "$pivoted\n"
   ]
  },
  {
   "cell_type": "markdown",
   "metadata": {},
   "source": [
    "## Alternative outputs"
   ]
  },
  {
   "cell_type": "code",
   "execution_count": null,
   "metadata": {
    "dotnet_interactive": {
     "language": "pwsh"
    }
   },
   "outputs": [
    {
     "data": {
      "text/html": [
       "<table> <colgroup><col/><col/><col/><col/></colgroup> <tr><th>Day</th><th>Average_Sales</th><th>Min_Sales</th><th>Max_Sales</th></tr> <tr><td>Sunday</td><td>34.267</td><td>21</td><td>47</td></tr> <tr><td>Monday</td><td>34.533</td><td>25</td><td>49</td></tr> <tr><td>Tuesday</td><td>37.667</td><td>26</td><td>48</td></tr> <tr><td>Wednesday</td><td>33.067</td><td>20</td><td>46</td></tr> <tr><td>Thursday</td><td>34.467</td><td>21</td><td>47</td></tr> <tr><td>Friday</td><td>35</td><td>21</td><td>47</td></tr> <tr><td>Saturday</td><td>35.4</td><td>20</td><td>47</td></tr> </table>"
      ]
     },
     "metadata": {},
     "output_type": "display_data"
    }
   ],
   "source": [
    "# load out-cell and out-tree view\n",
    ". ..\\NotebookOutput.ps1\n",
    "$pivoted | Out-cell -AsTable\n"
   ]
  },
  {
   "cell_type": "code",
   "execution_count": null,
   "metadata": {
    "dotnet_interactive": {
     "language": "pwsh"
    }
   },
   "outputs": [
    {
     "data": {
      "text/html": [
       "<table> <colgroup><col/><col/><col/><col/></colgroup> <tr><th>Day</th><th>Average_Sales</th><th>Min_Sales</th><th>Max_Sales</th></tr> <tr><td><details class=\"dni-treeview\"><summary><span class=\"dni-code-hint\">Sunday</span></summary><div><table>\r\n",
       "  <thead>\r\n",
       "    <tr><td>location</td><td>Product</td><td>Sales</td></tr>\r\n",
       "  </thead>\r\n",
       "  <tbody>\r\n",
       "    <tr><td><span><div class=\"dni-plaintext\">London</div></span></td><td><span><div class=\"dni-plaintext\">Cucumber</div></span></td><td><span><div class=\"dni-plaintext\">28</div></span></td></tr>\r\n",
       "    <tr><td><span><div class=\"dni-plaintext\">London</div></span></td><td><span><div class=\"dni-plaintext\">Tomato</div></span></td><td><span><div class=\"dni-plaintext\">31</div></span></td></tr>\r\n",
       "    <tr><td><span><div class=\"dni-plaintext\">London</div></span></td><td><span><div class=\"dni-plaintext\">Lettuce</div></span></td><td><span><div class=\"dni-plaintext\">37</div></span></td></tr>\r\n",
       "    <tr><td><span><div class=\"dni-plaintext\">London</div></span></td><td><span><div class=\"dni-plaintext\">Asparagus</div></span></td><td><span><div class=\"dni-plaintext\">29</div></span></td></tr>\r\n",
       "    <tr><td><span><div class=\"dni-plaintext\">London</div></span></td><td><span><div class=\"dni-plaintext\">Potato</div></span></td><td><span><div class=\"dni-plaintext\">39</div></span></td></tr>\r\n",
       "    <tr><td><span><div class=\"dni-plaintext\">Edinburgh</div></span></td><td><span><div class=\"dni-plaintext\">Cucumber</div></span></td><td><span><div class=\"dni-plaintext\">43</div></span></td></tr>\r\n",
       "    <tr><td><span><div class=\"dni-plaintext\">Edinburgh</div></span></td><td><span><div class=\"dni-plaintext\">Tomato</div></span></td><td><span><div class=\"dni-plaintext\">42</div></span></td></tr>\r\n",
       "    <tr><td><span><div class=\"dni-plaintext\">Edinburgh</div></span></td><td><span><div class=\"dni-plaintext\">Lettuce</div></span></td><td><span><div class=\"dni-plaintext\">35</div></span></td></tr>\r\n",
       "    <tr><td><span><div class=\"dni-plaintext\">Edinburgh</div></span></td><td><span><div class=\"dni-plaintext\">Asparagus</div></span></td><td><span><div class=\"dni-plaintext\">37</div></span></td></tr>\r\n",
       "    <tr><td><span><div class=\"dni-plaintext\">Edinburgh</div></span></td><td><span><div class=\"dni-plaintext\">Potato</div></span></td><td><span><div class=\"dni-plaintext\">28</div></span></td></tr>\r\n",
       "    <tr><td><span><div class=\"dni-plaintext\">Glasgow</div></span></td><td><span><div class=\"dni-plaintext\">Cucumber</div></span></td><td><span><div class=\"dni-plaintext\">27</div></span></td></tr>\r\n",
       "    <tr><td><span><div class=\"dni-plaintext\">Glasgow</div></span></td><td><span><div class=\"dni-plaintext\">Tomato</div></span></td><td><span><div class=\"dni-plaintext\">23</div></span></td></tr>\r\n",
       "    <tr><td><span><div class=\"dni-plaintext\">Glasgow</div></span></td><td><span><div class=\"dni-plaintext\">Lettuce</div></span></td><td><span><div class=\"dni-plaintext\">29</div></span></td></tr>\r\n",
       "    <tr><td><span><div class=\"dni-plaintext\">Glasgow</div></span></td><td><span><div class=\"dni-plaintext\">Asparagus</div></span></td><td><span><div class=\"dni-plaintext\">24</div></span></td></tr>\r\n",
       "    <tr><td><span><div class=\"dni-plaintext\">Glasgow</div></span></td><td><span><div class=\"dni-plaintext\">Potato</div></span></td><td><span><div class=\"dni-plaintext\">24</div></span></td></tr>\r\n",
       "    <tr><td><span><div class=\"dni-plaintext\">Birmingham</div></span></td><td><span><div class=\"dni-plaintext\">Cucumber</div></span></td><td><span><div class=\"dni-plaintext\">47</div></span></td></tr>\r\n",
       "    <tr><td><span><div class=\"dni-plaintext\">Birmingham</div></span></td><td><span><div class=\"dni-plaintext\">Tomato</div></span></td><td><span><div class=\"dni-plaintext\">41</div></span></td></tr>\r\n",
       "    <tr><td><span><div class=\"dni-plaintext\">Birmingham</div></span></td><td><span><div class=\"dni-plaintext\">Lettuce</div></span></td><td><span><div class=\"dni-plaintext\">42</div></span></td></tr>\r\n",
       "    <tr><td><span><div class=\"dni-plaintext\">Birmingham</div></span></td><td><span><div class=\"dni-plaintext\">Asparagus</div></span></td><td><span><div class=\"dni-plaintext\">23</div></span></td></tr>\r\n",
       "    <tr><td><span><div class=\"dni-plaintext\">Birmingham</div></span></td><td><span><div class=\"dni-plaintext\">Potato</div></span></td><td><span><div class=\"dni-plaintext\">29</div></span></td></tr>\r\n",
       "    <tr><td><span><div class=\"dni-plaintext\">Cardiff</div></span></td><td><span><div class=\"dni-plaintext\">Cucumber</div></span></td><td><span><div class=\"dni-plaintext\">37</div></span></td></tr>\r\n",
       "    <tr><td><span><div class=\"dni-plaintext\">Cardiff</div></span></td><td><span><div class=\"dni-plaintext\">Tomato</div></span></td><td><span><div class=\"dni-plaintext\">31</div></span></td></tr>\r\n",
       "    <tr><td><span><div class=\"dni-plaintext\">Cardiff</div></span></td><td><span><div class=\"dni-plaintext\">Lettuce</div></span></td><td><span><div class=\"dni-plaintext\">21</div></span></td></tr>\r\n",
       "    <tr><td><span><div class=\"dni-plaintext\">Cardiff</div></span></td><td><span><div class=\"dni-plaintext\">Asparagus</div></span></td><td><span><div class=\"dni-plaintext\">28</div></span></td></tr>\r\n",
       "    <tr><td><span><div class=\"dni-plaintext\">Cardiff</div></span></td><td><span><div class=\"dni-plaintext\">Potato</div></span></td><td><span><div class=\"dni-plaintext\">26</div></span></td></tr>\r\n",
       "  </tbody>\r\n",
       "</table></div></details>\r\n",
       "</td><td>34.267</td><td>21</td><td>47</td></tr> <tr><td><details class=\"dni-treeview\"><summary><span class=\"dni-code-hint\">Monday</span></summary><div><table>\r\n",
       "  <thead>\r\n",
       "    <tr><td>location</td><td>Product</td><td>Sales</td></tr>\r\n",
       "  </thead>\r\n",
       "  <tbody>\r\n",
       "    <tr><td><span><div class=\"dni-plaintext\">London</div></span></td><td><span><div class=\"dni-plaintext\">Cucumber</div></span></td><td><span><div class=\"dni-plaintext\">46</div></span></td></tr>\r\n",
       "    <tr><td><span><div class=\"dni-plaintext\">London</div></span></td><td><span><div class=\"dni-plaintext\">Tomato</div></span></td><td><span><div class=\"dni-plaintext\">35</div></span></td></tr>\r\n",
       "    <tr><td><span><div class=\"dni-plaintext\">London</div></span></td><td><span><div class=\"dni-plaintext\">Lettuce</div></span></td><td><span><div class=\"dni-plaintext\">41</div></span></td></tr>\r\n",
       "    <tr><td><span><div class=\"dni-plaintext\">London</div></span></td><td><span><div class=\"dni-plaintext\">Asparagus</div></span></td><td><span><div class=\"dni-plaintext\">49</div></span></td></tr>\r\n",
       "    <tr><td><span><div class=\"dni-plaintext\">London</div></span></td><td><span><div class=\"dni-plaintext\">Potato</div></span></td><td><span><div class=\"dni-plaintext\">30</div></span></td></tr>\r\n",
       "    <tr><td><span><div class=\"dni-plaintext\">Edinburgh</div></span></td><td><span><div class=\"dni-plaintext\">Cucumber</div></span></td><td><span><div class=\"dni-plaintext\">29</div></span></td></tr>\r\n",
       "    <tr><td><span><div class=\"dni-plaintext\">Edinburgh</div></span></td><td><span><div class=\"dni-plaintext\">Tomato</div></span></td><td><span><div class=\"dni-plaintext\">26</div></span></td></tr>\r\n",
       "    <tr><td><span><div class=\"dni-plaintext\">Edinburgh</div></span></td><td><span><div class=\"dni-plaintext\">Lettuce</div></span></td><td><span><div class=\"dni-plaintext\">36</div></span></td></tr>\r\n",
       "    <tr><td><span><div class=\"dni-plaintext\">Edinburgh</div></span></td><td><span><div class=\"dni-plaintext\">Asparagus</div></span></td><td><span><div class=\"dni-plaintext\">25</div></span></td></tr>\r\n",
       "    <tr><td><span><div class=\"dni-plaintext\">Edinburgh</div></span></td><td><span><div class=\"dni-plaintext\">Potato</div></span></td><td><span><div class=\"dni-plaintext\">35</div></span></td></tr>\r\n",
       "    <tr><td><span><div class=\"dni-plaintext\">Glasgow</div></span></td><td><span><div class=\"dni-plaintext\">Cucumber</div></span></td><td><span><div class=\"dni-plaintext\">29</div></span></td></tr>\r\n",
       "    <tr><td><span><div class=\"dni-plaintext\">Glasgow</div></span></td><td><span><div class=\"dni-plaintext\">Tomato</div></span></td><td><span><div class=\"dni-plaintext\">30</div></span></td></tr>\r\n",
       "    <tr><td><span><div class=\"dni-plaintext\">Glasgow</div></span></td><td><span><div class=\"dni-plaintext\">Lettuce</div></span></td><td><span><div class=\"dni-plaintext\">25</div></span></td></tr>\r\n",
       "    <tr><td><span><div class=\"dni-plaintext\">Glasgow</div></span></td><td><span><div class=\"dni-plaintext\">Asparagus</div></span></td><td><span><div class=\"dni-plaintext\">29</div></span></td></tr>\r\n",
       "    <tr><td><span><div class=\"dni-plaintext\">Glasgow</div></span></td><td><span><div class=\"dni-plaintext\">Potato</div></span></td><td><span><div class=\"dni-plaintext\">47</div></span></td></tr>\r\n",
       "    <tr><td><span><div class=\"dni-plaintext\">Birmingham</div></span></td><td><span><div class=\"dni-plaintext\">Cucumber</div></span></td><td><span><div class=\"dni-plaintext\">27</div></span></td></tr>\r\n",
       "    <tr><td><span><div class=\"dni-plaintext\">Birmingham</div></span></td><td><span><div class=\"dni-plaintext\">Tomato</div></span></td><td><span><div class=\"dni-plaintext\">34</div></span></td></tr>\r\n",
       "    <tr><td><span><div class=\"dni-plaintext\">Birmingham</div></span></td><td><span><div class=\"dni-plaintext\">Lettuce</div></span></td><td><span><div class=\"dni-plaintext\">49</div></span></td></tr>\r\n",
       "    <tr><td><span><div class=\"dni-plaintext\">Birmingham</div></span></td><td><span><div class=\"dni-plaintext\">Asparagus</div></span></td><td><span><div class=\"dni-plaintext\">35</div></span></td></tr>\r\n",
       "    <tr><td><span><div class=\"dni-plaintext\">Birmingham</div></span></td><td><span><div class=\"dni-plaintext\">Potato</div></span></td><td><span><div class=\"dni-plaintext\">31</div></span></td></tr>\r\n",
       "    <tr><td><span><div class=\"dni-plaintext\">Cardiff</div></span></td><td><span><div class=\"dni-plaintext\">Cucumber</div></span></td><td><span><div class=\"dni-plaintext\">34</div></span></td></tr>\r\n",
       "    <tr><td><span><div class=\"dni-plaintext\">Cardiff</div></span></td><td><span><div class=\"dni-plaintext\">Tomato</div></span></td><td><span><div class=\"dni-plaintext\">37</div></span></td></tr>\r\n",
       "    <tr><td><span><div class=\"dni-plaintext\">Cardiff</div></span></td><td><span><div class=\"dni-plaintext\">Lettuce</div></span></td><td><span><div class=\"dni-plaintext\">40</div></span></td></tr>\r\n",
       "    <tr><td><span><div class=\"dni-plaintext\">Cardiff</div></span></td><td><span><div class=\"dni-plaintext\">Asparagus</div></span></td><td><span><div class=\"dni-plaintext\">30</div></span></td></tr>\r\n",
       "    <tr><td><span><div class=\"dni-plaintext\">Cardiff</div></span></td><td><span><div class=\"dni-plaintext\">Potato</div></span></td><td><span><div class=\"dni-plaintext\">41</div></span></td></tr>\r\n",
       "  </tbody>\r\n",
       "</table></div></details>\r\n",
       "</td><td>34.533</td><td>25</td><td>49</td></tr> <tr><td><details class=\"dni-treeview\"><summary><span class=\"dni-code-hint\">Tuesday</span></summary><div><table>\r\n",
       "  <thead>\r\n",
       "    <tr><td>location</td><td>Product</td><td>Sales</td></tr>\r\n",
       "  </thead>\r\n",
       "  <tbody>\r\n",
       "    <tr><td><span><div class=\"dni-plaintext\">London</div></span></td><td><span><div class=\"dni-plaintext\">Cucumber</div></span></td><td><span><div class=\"dni-plaintext\">30</div></span></td></tr>\r\n",
       "    <tr><td><span><div class=\"dni-plaintext\">London</div></span></td><td><span><div class=\"dni-plaintext\">Tomato</div></span></td><td><span><div class=\"dni-plaintext\">26</div></span></td></tr>\r\n",
       "    <tr><td><span><div class=\"dni-plaintext\">London</div></span></td><td><span><div class=\"dni-plaintext\">Lettuce</div></span></td><td><span><div class=\"dni-plaintext\">36</div></span></td></tr>\r\n",
       "    <tr><td><span><div class=\"dni-plaintext\">London</div></span></td><td><span><div class=\"dni-plaintext\">Asparagus</div></span></td><td><span><div class=\"dni-plaintext\">38</div></span></td></tr>\r\n",
       "    <tr><td><span><div class=\"dni-plaintext\">London</div></span></td><td><span><div class=\"dni-plaintext\">Potato</div></span></td><td><span><div class=\"dni-plaintext\">27</div></span></td></tr>\r\n",
       "    <tr><td><span><div class=\"dni-plaintext\">Edinburgh</div></span></td><td><span><div class=\"dni-plaintext\">Cucumber</div></span></td><td><span><div class=\"dni-plaintext\">44</div></span></td></tr>\r\n",
       "    <tr><td><span><div class=\"dni-plaintext\">Edinburgh</div></span></td><td><span><div class=\"dni-plaintext\">Tomato</div></span></td><td><span><div class=\"dni-plaintext\">48</div></span></td></tr>\r\n",
       "    <tr><td><span><div class=\"dni-plaintext\">Edinburgh</div></span></td><td><span><div class=\"dni-plaintext\">Lettuce</div></span></td><td><span><div class=\"dni-plaintext\">32</div></span></td></tr>\r\n",
       "    <tr><td><span><div class=\"dni-plaintext\">Edinburgh</div></span></td><td><span><div class=\"dni-plaintext\">Asparagus</div></span></td><td><span><div class=\"dni-plaintext\">26</div></span></td></tr>\r\n",
       "    <tr><td><span><div class=\"dni-plaintext\">Edinburgh</div></span></td><td><span><div class=\"dni-plaintext\">Potato</div></span></td><td><span><div class=\"dni-plaintext\">28</div></span></td></tr>\r\n",
       "    <tr><td><span><div class=\"dni-plaintext\">Glasgow</div></span></td><td><span><div class=\"dni-plaintext\">Cucumber</div></span></td><td><span><div class=\"dni-plaintext\">32</div></span></td></tr>\r\n",
       "    <tr><td><span><div class=\"dni-plaintext\">Glasgow</div></span></td><td><span><div class=\"dni-plaintext\">Tomato</div></span></td><td><span><div class=\"dni-plaintext\">36</div></span></td></tr>\r\n",
       "    <tr><td><span><div class=\"dni-plaintext\">Glasgow</div></span></td><td><span><div class=\"dni-plaintext\">Lettuce</div></span></td><td><span><div class=\"dni-plaintext\">46</div></span></td></tr>\r\n",
       "    <tr><td><span><div class=\"dni-plaintext\">Glasgow</div></span></td><td><span><div class=\"dni-plaintext\">Asparagus</div></span></td><td><span><div class=\"dni-plaintext\">38</div></span></td></tr>\r\n",
       "    <tr><td><span><div class=\"dni-plaintext\">Glasgow</div></span></td><td><span><div class=\"dni-plaintext\">Potato</div></span></td><td><span><div class=\"dni-plaintext\">22</div></span></td></tr>\r\n",
       "    <tr><td><span><div class=\"dni-plaintext\">Birmingham</div></span></td><td><span><div class=\"dni-plaintext\">Cucumber</div></span></td><td><span><div class=\"dni-plaintext\">39</div></span></td></tr>\r\n",
       "    <tr><td><span><div class=\"dni-plaintext\">Birmingham</div></span></td><td><span><div class=\"dni-plaintext\">Tomato</div></span></td><td><span><div class=\"dni-plaintext\">41</div></span></td></tr>\r\n",
       "    <tr><td><span><div class=\"dni-plaintext\">Birmingham</div></span></td><td><span><div class=\"dni-plaintext\">Lettuce</div></span></td><td><span><div class=\"dni-plaintext\">41</div></span></td></tr>\r\n",
       "    <tr><td><span><div class=\"dni-plaintext\">Birmingham</div></span></td><td><span><div class=\"dni-plaintext\">Asparagus</div></span></td><td><span><div class=\"dni-plaintext\">31</div></span></td></tr>\r\n",
       "    <tr><td><span><div class=\"dni-plaintext\">Birmingham</div></span></td><td><span><div class=\"dni-plaintext\">Potato</div></span></td><td><span><div class=\"dni-plaintext\">20</div></span></td></tr>\r\n",
       "    <tr><td><span><div class=\"dni-plaintext\">Cardiff</div></span></td><td><span><div class=\"dni-plaintext\">Cucumber</div></span></td><td><span><div class=\"dni-plaintext\">47</div></span></td></tr>\r\n",
       "    <tr><td><span><div class=\"dni-plaintext\">Cardiff</div></span></td><td><span><div class=\"dni-plaintext\">Tomato</div></span></td><td><span><div class=\"dni-plaintext\">41</div></span></td></tr>\r\n",
       "    <tr><td><span><div class=\"dni-plaintext\">Cardiff</div></span></td><td><span><div class=\"dni-plaintext\">Lettuce</div></span></td><td><span><div class=\"dni-plaintext\">26</div></span></td></tr>\r\n",
       "    <tr><td><span><div class=\"dni-plaintext\">Cardiff</div></span></td><td><span><div class=\"dni-plaintext\">Asparagus</div></span></td><td><span><div class=\"dni-plaintext\">24</div></span></td></tr>\r\n",
       "    <tr><td><span><div class=\"dni-plaintext\">Cardiff</div></span></td><td><span><div class=\"dni-plaintext\">Potato</div></span></td><td><span><div class=\"dni-plaintext\">49</div></span></td></tr>\r\n",
       "  </tbody>\r\n",
       "</table></div></details>\r\n",
       "</td><td>37.667</td><td>26</td><td>48</td></tr> <tr><td><details class=\"dni-treeview\"><summary><span class=\"dni-code-hint\">Wednesday</span></summary><div><table>\r\n",
       "  <thead>\r\n",
       "    <tr><td>location</td><td>Product</td><td>Sales</td></tr>\r\n",
       "  </thead>\r\n",
       "  <tbody>\r\n",
       "    <tr><td><span><div class=\"dni-plaintext\">London</div></span></td><td><span><div class=\"dni-plaintext\">Cucumber</div></span></td><td><span><div class=\"dni-plaintext\">25</div></span></td></tr>\r\n",
       "    <tr><td><span><div class=\"dni-plaintext\">London</div></span></td><td><span><div class=\"dni-plaintext\">Tomato</div></span></td><td><span><div class=\"dni-plaintext\">26</div></span></td></tr>\r\n",
       "    <tr><td><span><div class=\"dni-plaintext\">London</div></span></td><td><span><div class=\"dni-plaintext\">Lettuce</div></span></td><td><span><div class=\"dni-plaintext\">27</div></span></td></tr>\r\n",
       "    <tr><td><span><div class=\"dni-plaintext\">London</div></span></td><td><span><div class=\"dni-plaintext\">Asparagus</div></span></td><td><span><div class=\"dni-plaintext\">31</div></span></td></tr>\r\n",
       "    <tr><td><span><div class=\"dni-plaintext\">London</div></span></td><td><span><div class=\"dni-plaintext\">Potato</div></span></td><td><span><div class=\"dni-plaintext\">30</div></span></td></tr>\r\n",
       "    <tr><td><span><div class=\"dni-plaintext\">Edinburgh</div></span></td><td><span><div class=\"dni-plaintext\">Cucumber</div></span></td><td><span><div class=\"dni-plaintext\">46</div></span></td></tr>\r\n",
       "    <tr><td><span><div class=\"dni-plaintext\">Edinburgh</div></span></td><td><span><div class=\"dni-plaintext\">Tomato</div></span></td><td><span><div class=\"dni-plaintext\">43</div></span></td></tr>\r\n",
       "    <tr><td><span><div class=\"dni-plaintext\">Edinburgh</div></span></td><td><span><div class=\"dni-plaintext\">Lettuce</div></span></td><td><span><div class=\"dni-plaintext\">38</div></span></td></tr>\r\n",
       "    <tr><td><span><div class=\"dni-plaintext\">Edinburgh</div></span></td><td><span><div class=\"dni-plaintext\">Asparagus</div></span></td><td><span><div class=\"dni-plaintext\">41</div></span></td></tr>\r\n",
       "    <tr><td><span><div class=\"dni-plaintext\">Edinburgh</div></span></td><td><span><div class=\"dni-plaintext\">Potato</div></span></td><td><span><div class=\"dni-plaintext\">26</div></span></td></tr>\r\n",
       "    <tr><td><span><div class=\"dni-plaintext\">Glasgow</div></span></td><td><span><div class=\"dni-plaintext\">Cucumber</div></span></td><td><span><div class=\"dni-plaintext\">20</div></span></td></tr>\r\n",
       "    <tr><td><span><div class=\"dni-plaintext\">Glasgow</div></span></td><td><span><div class=\"dni-plaintext\">Tomato</div></span></td><td><span><div class=\"dni-plaintext\">33</div></span></td></tr>\r\n",
       "    <tr><td><span><div class=\"dni-plaintext\">Glasgow</div></span></td><td><span><div class=\"dni-plaintext\">Lettuce</div></span></td><td><span><div class=\"dni-plaintext\">26</div></span></td></tr>\r\n",
       "    <tr><td><span><div class=\"dni-plaintext\">Glasgow</div></span></td><td><span><div class=\"dni-plaintext\">Asparagus</div></span></td><td><span><div class=\"dni-plaintext\">44</div></span></td></tr>\r\n",
       "    <tr><td><span><div class=\"dni-plaintext\">Glasgow</div></span></td><td><span><div class=\"dni-plaintext\">Potato</div></span></td><td><span><div class=\"dni-plaintext\">27</div></span></td></tr>\r\n",
       "    <tr><td><span><div class=\"dni-plaintext\">Birmingham</div></span></td><td><span><div class=\"dni-plaintext\">Cucumber</div></span></td><td><span><div class=\"dni-plaintext\">33</div></span></td></tr>\r\n",
       "    <tr><td><span><div class=\"dni-plaintext\">Birmingham</div></span></td><td><span><div class=\"dni-plaintext\">Tomato</div></span></td><td><span><div class=\"dni-plaintext\">46</div></span></td></tr>\r\n",
       "    <tr><td><span><div class=\"dni-plaintext\">Birmingham</div></span></td><td><span><div class=\"dni-plaintext\">Lettuce</div></span></td><td><span><div class=\"dni-plaintext\">28</div></span></td></tr>\r\n",
       "    <tr><td><span><div class=\"dni-plaintext\">Birmingham</div></span></td><td><span><div class=\"dni-plaintext\">Asparagus</div></span></td><td><span><div class=\"dni-plaintext\">40</div></span></td></tr>\r\n",
       "    <tr><td><span><div class=\"dni-plaintext\">Birmingham</div></span></td><td><span><div class=\"dni-plaintext\">Potato</div></span></td><td><span><div class=\"dni-plaintext\">47</div></span></td></tr>\r\n",
       "    <tr><td><span><div class=\"dni-plaintext\">Cardiff</div></span></td><td><span><div class=\"dni-plaintext\">Cucumber</div></span></td><td><span><div class=\"dni-plaintext\">27</div></span></td></tr>\r\n",
       "    <tr><td><span><div class=\"dni-plaintext\">Cardiff</div></span></td><td><span><div class=\"dni-plaintext\">Tomato</div></span></td><td><span><div class=\"dni-plaintext\">40</div></span></td></tr>\r\n",
       "    <tr><td><span><div class=\"dni-plaintext\">Cardiff</div></span></td><td><span><div class=\"dni-plaintext\">Lettuce</div></span></td><td><span><div class=\"dni-plaintext\">38</div></span></td></tr>\r\n",
       "    <tr><td><span><div class=\"dni-plaintext\">Cardiff</div></span></td><td><span><div class=\"dni-plaintext\">Asparagus</div></span></td><td><span><div class=\"dni-plaintext\">26</div></span></td></tr>\r\n",
       "    <tr><td><span><div class=\"dni-plaintext\">Cardiff</div></span></td><td><span><div class=\"dni-plaintext\">Potato</div></span></td><td><span><div class=\"dni-plaintext\">32</div></span></td></tr>\r\n",
       "  </tbody>\r\n",
       "</table></div></details>\r\n",
       "</td><td>33.067</td><td>20</td><td>46</td></tr> <tr><td><details class=\"dni-treeview\"><summary><span class=\"dni-code-hint\">Thursday</span></summary><div><table>\r\n",
       "  <thead>\r\n",
       "    <tr><td>location</td><td>Product</td><td>Sales</td></tr>\r\n",
       "  </thead>\r\n",
       "  <tbody>\r\n",
       "    <tr><td><span><div class=\"dni-plaintext\">London</div></span></td><td><span><div class=\"dni-plaintext\">Cucumber</div></span></td><td><span><div class=\"dni-plaintext\">47</div></span></td></tr>\r\n",
       "    <tr><td><span><div class=\"dni-plaintext\">London</div></span></td><td><span><div class=\"dni-plaintext\">Tomato</div></span></td><td><span><div class=\"dni-plaintext\">32</div></span></td></tr>\r\n",
       "    <tr><td><span><div class=\"dni-plaintext\">London</div></span></td><td><span><div class=\"dni-plaintext\">Lettuce</div></span></td><td><span><div class=\"dni-plaintext\">44</div></span></td></tr>\r\n",
       "    <tr><td><span><div class=\"dni-plaintext\">London</div></span></td><td><span><div class=\"dni-plaintext\">Asparagus</div></span></td><td><span><div class=\"dni-plaintext\">21</div></span></td></tr>\r\n",
       "    <tr><td><span><div class=\"dni-plaintext\">London</div></span></td><td><span><div class=\"dni-plaintext\">Potato</div></span></td><td><span><div class=\"dni-plaintext\">37</div></span></td></tr>\r\n",
       "    <tr><td><span><div class=\"dni-plaintext\">Edinburgh</div></span></td><td><span><div class=\"dni-plaintext\">Cucumber</div></span></td><td><span><div class=\"dni-plaintext\">39</div></span></td></tr>\r\n",
       "    <tr><td><span><div class=\"dni-plaintext\">Edinburgh</div></span></td><td><span><div class=\"dni-plaintext\">Tomato</div></span></td><td><span><div class=\"dni-plaintext\">39</div></span></td></tr>\r\n",
       "    <tr><td><span><div class=\"dni-plaintext\">Edinburgh</div></span></td><td><span><div class=\"dni-plaintext\">Lettuce</div></span></td><td><span><div class=\"dni-plaintext\">36</div></span></td></tr>\r\n",
       "    <tr><td><span><div class=\"dni-plaintext\">Edinburgh</div></span></td><td><span><div class=\"dni-plaintext\">Asparagus</div></span></td><td><span><div class=\"dni-plaintext\">31</div></span></td></tr>\r\n",
       "    <tr><td><span><div class=\"dni-plaintext\">Edinburgh</div></span></td><td><span><div class=\"dni-plaintext\">Potato</div></span></td><td><span><div class=\"dni-plaintext\">20</div></span></td></tr>\r\n",
       "    <tr><td><span><div class=\"dni-plaintext\">Glasgow</div></span></td><td><span><div class=\"dni-plaintext\">Cucumber</div></span></td><td><span><div class=\"dni-plaintext\">21</div></span></td></tr>\r\n",
       "    <tr><td><span><div class=\"dni-plaintext\">Glasgow</div></span></td><td><span><div class=\"dni-plaintext\">Tomato</div></span></td><td><span><div class=\"dni-plaintext\">29</div></span></td></tr>\r\n",
       "    <tr><td><span><div class=\"dni-plaintext\">Glasgow</div></span></td><td><span><div class=\"dni-plaintext\">Lettuce</div></span></td><td><span><div class=\"dni-plaintext\">25</div></span></td></tr>\r\n",
       "    <tr><td><span><div class=\"dni-plaintext\">Glasgow</div></span></td><td><span><div class=\"dni-plaintext\">Asparagus</div></span></td><td><span><div class=\"dni-plaintext\">35</div></span></td></tr>\r\n",
       "    <tr><td><span><div class=\"dni-plaintext\">Glasgow</div></span></td><td><span><div class=\"dni-plaintext\">Potato</div></span></td><td><span><div class=\"dni-plaintext\">46</div></span></td></tr>\r\n",
       "    <tr><td><span><div class=\"dni-plaintext\">Birmingham</div></span></td><td><span><div class=\"dni-plaintext\">Cucumber</div></span></td><td><span><div class=\"dni-plaintext\">21</div></span></td></tr>\r\n",
       "    <tr><td><span><div class=\"dni-plaintext\">Birmingham</div></span></td><td><span><div class=\"dni-plaintext\">Tomato</div></span></td><td><span><div class=\"dni-plaintext\">46</div></span></td></tr>\r\n",
       "    <tr><td><span><div class=\"dni-plaintext\">Birmingham</div></span></td><td><span><div class=\"dni-plaintext\">Lettuce</div></span></td><td><span><div class=\"dni-plaintext\">38</div></span></td></tr>\r\n",
       "    <tr><td><span><div class=\"dni-plaintext\">Birmingham</div></span></td><td><span><div class=\"dni-plaintext\">Asparagus</div></span></td><td><span><div class=\"dni-plaintext\">29</div></span></td></tr>\r\n",
       "    <tr><td><span><div class=\"dni-plaintext\">Birmingham</div></span></td><td><span><div class=\"dni-plaintext\">Potato</div></span></td><td><span><div class=\"dni-plaintext\">20</div></span></td></tr>\r\n",
       "    <tr><td><span><div class=\"dni-plaintext\">Cardiff</div></span></td><td><span><div class=\"dni-plaintext\">Cucumber</div></span></td><td><span><div class=\"dni-plaintext\">29</div></span></td></tr>\r\n",
       "    <tr><td><span><div class=\"dni-plaintext\">Cardiff</div></span></td><td><span><div class=\"dni-plaintext\">Tomato</div></span></td><td><span><div class=\"dni-plaintext\">28</div></span></td></tr>\r\n",
       "    <tr><td><span><div class=\"dni-plaintext\">Cardiff</div></span></td><td><span><div class=\"dni-plaintext\">Lettuce</div></span></td><td><span><div class=\"dni-plaintext\">43</div></span></td></tr>\r\n",
       "    <tr><td><span><div class=\"dni-plaintext\">Cardiff</div></span></td><td><span><div class=\"dni-plaintext\">Asparagus</div></span></td><td><span><div class=\"dni-plaintext\">26</div></span></td></tr>\r\n",
       "    <tr><td><span><div class=\"dni-plaintext\">Cardiff</div></span></td><td><span><div class=\"dni-plaintext\">Potato</div></span></td><td><span><div class=\"dni-plaintext\">22</div></span></td></tr>\r\n",
       "  </tbody>\r\n",
       "</table></div></details>\r\n",
       "</td><td>34.467</td><td>21</td><td>47</td></tr> <tr><td><details class=\"dni-treeview\"><summary><span class=\"dni-code-hint\">Friday</span></summary><div><table>\r\n",
       "  <thead>\r\n",
       "    <tr><td>location</td><td>Product</td><td>Sales</td></tr>\r\n",
       "  </thead>\r\n",
       "  <tbody>\r\n",
       "    <tr><td><span><div class=\"dni-plaintext\">London</div></span></td><td><span><div class=\"dni-plaintext\">Cucumber</div></span></td><td><span><div class=\"dni-plaintext\">38</div></span></td></tr>\r\n",
       "    <tr><td><span><div class=\"dni-plaintext\">London</div></span></td><td><span><div class=\"dni-plaintext\">Tomato</div></span></td><td><span><div class=\"dni-plaintext\">40</div></span></td></tr>\r\n",
       "    <tr><td><span><div class=\"dni-plaintext\">London</div></span></td><td><span><div class=\"dni-plaintext\">Lettuce</div></span></td><td><span><div class=\"dni-plaintext\">35</div></span></td></tr>\r\n",
       "    <tr><td><span><div class=\"dni-plaintext\">London</div></span></td><td><span><div class=\"dni-plaintext\">Asparagus</div></span></td><td><span><div class=\"dni-plaintext\">27</div></span></td></tr>\r\n",
       "    <tr><td><span><div class=\"dni-plaintext\">London</div></span></td><td><span><div class=\"dni-plaintext\">Potato</div></span></td><td><span><div class=\"dni-plaintext\">39</div></span></td></tr>\r\n",
       "    <tr><td><span><div class=\"dni-plaintext\">Edinburgh</div></span></td><td><span><div class=\"dni-plaintext\">Cucumber</div></span></td><td><span><div class=\"dni-plaintext\">36</div></span></td></tr>\r\n",
       "    <tr><td><span><div class=\"dni-plaintext\">Edinburgh</div></span></td><td><span><div class=\"dni-plaintext\">Tomato</div></span></td><td><span><div class=\"dni-plaintext\">38</div></span></td></tr>\r\n",
       "    <tr><td><span><div class=\"dni-plaintext\">Edinburgh</div></span></td><td><span><div class=\"dni-plaintext\">Lettuce</div></span></td><td><span><div class=\"dni-plaintext\">47</div></span></td></tr>\r\n",
       "    <tr><td><span><div class=\"dni-plaintext\">Edinburgh</div></span></td><td><span><div class=\"dni-plaintext\">Asparagus</div></span></td><td><span><div class=\"dni-plaintext\">30</div></span></td></tr>\r\n",
       "    <tr><td><span><div class=\"dni-plaintext\">Edinburgh</div></span></td><td><span><div class=\"dni-plaintext\">Potato</div></span></td><td><span><div class=\"dni-plaintext\">24</div></span></td></tr>\r\n",
       "    <tr><td><span><div class=\"dni-plaintext\">Glasgow</div></span></td><td><span><div class=\"dni-plaintext\">Cucumber</div></span></td><td><span><div class=\"dni-plaintext\">39</div></span></td></tr>\r\n",
       "    <tr><td><span><div class=\"dni-plaintext\">Glasgow</div></span></td><td><span><div class=\"dni-plaintext\">Tomato</div></span></td><td><span><div class=\"dni-plaintext\">36</div></span></td></tr>\r\n",
       "    <tr><td><span><div class=\"dni-plaintext\">Glasgow</div></span></td><td><span><div class=\"dni-plaintext\">Lettuce</div></span></td><td><span><div class=\"dni-plaintext\">45</div></span></td></tr>\r\n",
       "    <tr><td><span><div class=\"dni-plaintext\">Glasgow</div></span></td><td><span><div class=\"dni-plaintext\">Asparagus</div></span></td><td><span><div class=\"dni-plaintext\">28</div></span></td></tr>\r\n",
       "    <tr><td><span><div class=\"dni-plaintext\">Glasgow</div></span></td><td><span><div class=\"dni-plaintext\">Potato</div></span></td><td><span><div class=\"dni-plaintext\">32</div></span></td></tr>\r\n",
       "    <tr><td><span><div class=\"dni-plaintext\">Birmingham</div></span></td><td><span><div class=\"dni-plaintext\">Cucumber</div></span></td><td><span><div class=\"dni-plaintext\">31</div></span></td></tr>\r\n",
       "    <tr><td><span><div class=\"dni-plaintext\">Birmingham</div></span></td><td><span><div class=\"dni-plaintext\">Tomato</div></span></td><td><span><div class=\"dni-plaintext\">32</div></span></td></tr>\r\n",
       "    <tr><td><span><div class=\"dni-plaintext\">Birmingham</div></span></td><td><span><div class=\"dni-plaintext\">Lettuce</div></span></td><td><span><div class=\"dni-plaintext\">21</div></span></td></tr>\r\n",
       "    <tr><td><span><div class=\"dni-plaintext\">Birmingham</div></span></td><td><span><div class=\"dni-plaintext\">Asparagus</div></span></td><td><span><div class=\"dni-plaintext\">32</div></span></td></tr>\r\n",
       "    <tr><td><span><div class=\"dni-plaintext\">Birmingham</div></span></td><td><span><div class=\"dni-plaintext\">Potato</div></span></td><td><span><div class=\"dni-plaintext\">31</div></span></td></tr>\r\n",
       "    <tr><td><span><div class=\"dni-plaintext\">Cardiff</div></span></td><td><span><div class=\"dni-plaintext\">Cucumber</div></span></td><td><span><div class=\"dni-plaintext\">21</div></span></td></tr>\r\n",
       "    <tr><td><span><div class=\"dni-plaintext\">Cardiff</div></span></td><td><span><div class=\"dni-plaintext\">Tomato</div></span></td><td><span><div class=\"dni-plaintext\">43</div></span></td></tr>\r\n",
       "    <tr><td><span><div class=\"dni-plaintext\">Cardiff</div></span></td><td><span><div class=\"dni-plaintext\">Lettuce</div></span></td><td><span><div class=\"dni-plaintext\">23</div></span></td></tr>\r\n",
       "    <tr><td><span><div class=\"dni-plaintext\">Cardiff</div></span></td><td><span><div class=\"dni-plaintext\">Asparagus</div></span></td><td><span><div class=\"dni-plaintext\">37</div></span></td></tr>\r\n",
       "    <tr><td><span><div class=\"dni-plaintext\">Cardiff</div></span></td><td><span><div class=\"dni-plaintext\">Potato</div></span></td><td><span><div class=\"dni-plaintext\">27</div></span></td></tr>\r\n",
       "  </tbody>\r\n",
       "</table></div></details>\r\n",
       "</td><td>35</td><td>21</td><td>47</td></tr> <tr><td><details class=\"dni-treeview\"><summary><span class=\"dni-code-hint\">Saturday</span></summary><div><table>\r\n",
       "  <thead>\r\n",
       "    <tr><td>location</td><td>Product</td><td>Sales</td></tr>\r\n",
       "  </thead>\r\n",
       "  <tbody>\r\n",
       "    <tr><td><span><div class=\"dni-plaintext\">London</div></span></td><td><span><div class=\"dni-plaintext\">Cucumber</div></span></td><td><span><div class=\"dni-plaintext\">32</div></span></td></tr>\r\n",
       "    <tr><td><span><div class=\"dni-plaintext\">London</div></span></td><td><span><div class=\"dni-plaintext\">Tomato</div></span></td><td><span><div class=\"dni-plaintext\">29</div></span></td></tr>\r\n",
       "    <tr><td><span><div class=\"dni-plaintext\">London</div></span></td><td><span><div class=\"dni-plaintext\">Lettuce</div></span></td><td><span><div class=\"dni-plaintext\">39</div></span></td></tr>\r\n",
       "    <tr><td><span><div class=\"dni-plaintext\">London</div></span></td><td><span><div class=\"dni-plaintext\">Asparagus</div></span></td><td><span><div class=\"dni-plaintext\">32</div></span></td></tr>\r\n",
       "    <tr><td><span><div class=\"dni-plaintext\">London</div></span></td><td><span><div class=\"dni-plaintext\">Potato</div></span></td><td><span><div class=\"dni-plaintext\">31</div></span></td></tr>\r\n",
       "    <tr><td><span><div class=\"dni-plaintext\">Edinburgh</div></span></td><td><span><div class=\"dni-plaintext\">Cucumber</div></span></td><td><span><div class=\"dni-plaintext\">33</div></span></td></tr>\r\n",
       "    <tr><td><span><div class=\"dni-plaintext\">Edinburgh</div></span></td><td><span><div class=\"dni-plaintext\">Tomato</div></span></td><td><span><div class=\"dni-plaintext\">27</div></span></td></tr>\r\n",
       "    <tr><td><span><div class=\"dni-plaintext\">Edinburgh</div></span></td><td><span><div class=\"dni-plaintext\">Lettuce</div></span></td><td><span><div class=\"dni-plaintext\">39</div></span></td></tr>\r\n",
       "    <tr><td><span><div class=\"dni-plaintext\">Edinburgh</div></span></td><td><span><div class=\"dni-plaintext\">Asparagus</div></span></td><td><span><div class=\"dni-plaintext\">47</div></span></td></tr>\r\n",
       "    <tr><td><span><div class=\"dni-plaintext\">Edinburgh</div></span></td><td><span><div class=\"dni-plaintext\">Potato</div></span></td><td><span><div class=\"dni-plaintext\">39</div></span></td></tr>\r\n",
       "    <tr><td><span><div class=\"dni-plaintext\">Glasgow</div></span></td><td><span><div class=\"dni-plaintext\">Cucumber</div></span></td><td><span><div class=\"dni-plaintext\">22</div></span></td></tr>\r\n",
       "    <tr><td><span><div class=\"dni-plaintext\">Glasgow</div></span></td><td><span><div class=\"dni-plaintext\">Tomato</div></span></td><td><span><div class=\"dni-plaintext\">34</div></span></td></tr>\r\n",
       "    <tr><td><span><div class=\"dni-plaintext\">Glasgow</div></span></td><td><span><div class=\"dni-plaintext\">Lettuce</div></span></td><td><span><div class=\"dni-plaintext\">33</div></span></td></tr>\r\n",
       "    <tr><td><span><div class=\"dni-plaintext\">Glasgow</div></span></td><td><span><div class=\"dni-plaintext\">Asparagus</div></span></td><td><span><div class=\"dni-plaintext\">33</div></span></td></tr>\r\n",
       "    <tr><td><span><div class=\"dni-plaintext\">Glasgow</div></span></td><td><span><div class=\"dni-plaintext\">Potato</div></span></td><td><span><div class=\"dni-plaintext\">29</div></span></td></tr>\r\n",
       "    <tr><td><span><div class=\"dni-plaintext\">Birmingham</div></span></td><td><span><div class=\"dni-plaintext\">Cucumber</div></span></td><td><span><div class=\"dni-plaintext\">44</div></span></td></tr>\r\n",
       "    <tr><td><span><div class=\"dni-plaintext\">Birmingham</div></span></td><td><span><div class=\"dni-plaintext\">Tomato</div></span></td><td><span><div class=\"dni-plaintext\">20</div></span></td></tr>\r\n",
       "    <tr><td><span><div class=\"dni-plaintext\">Birmingham</div></span></td><td><span><div class=\"dni-plaintext\">Lettuce</div></span></td><td><span><div class=\"dni-plaintext\">46</div></span></td></tr>\r\n",
       "    <tr><td><span><div class=\"dni-plaintext\">Birmingham</div></span></td><td><span><div class=\"dni-plaintext\">Asparagus</div></span></td><td><span><div class=\"dni-plaintext\">26</div></span></td></tr>\r\n",
       "    <tr><td><span><div class=\"dni-plaintext\">Birmingham</div></span></td><td><span><div class=\"dni-plaintext\">Potato</div></span></td><td><span><div class=\"dni-plaintext\">29</div></span></td></tr>\r\n",
       "    <tr><td><span><div class=\"dni-plaintext\">Cardiff</div></span></td><td><span><div class=\"dni-plaintext\">Cucumber</div></span></td><td><span><div class=\"dni-plaintext\">42</div></span></td></tr>\r\n",
       "    <tr><td><span><div class=\"dni-plaintext\">Cardiff</div></span></td><td><span><div class=\"dni-plaintext\">Tomato</div></span></td><td><span><div class=\"dni-plaintext\">44</div></span></td></tr>\r\n",
       "    <tr><td><span><div class=\"dni-plaintext\">Cardiff</div></span></td><td><span><div class=\"dni-plaintext\">Lettuce</div></span></td><td><span><div class=\"dni-plaintext\">47</div></span></td></tr>\r\n",
       "    <tr><td><span><div class=\"dni-plaintext\">Cardiff</div></span></td><td><span><div class=\"dni-plaintext\">Asparagus</div></span></td><td><span><div class=\"dni-plaintext\">38</div></span></td></tr>\r\n",
       "    <tr><td><span><div class=\"dni-plaintext\">Cardiff</div></span></td><td><span><div class=\"dni-plaintext\">Potato</div></span></td><td><span><div class=\"dni-plaintext\">47</div></span></td></tr>\r\n",
       "  </tbody>\r\n",
       "</table></div></details>\r\n",
       "</td><td>35.4</td><td>20</td><td>47</td></tr> </table>"
      ]
     },
     "metadata": {},
     "output_type": "display_data"
    }
   ],
   "source": [
    "$html        = $pivoted |   ConvertTo-Html -As Table -Fragment \n",
    "foreach   ( $rowHeading in $pivoted.$PivotBy) {\n",
    "    $tree = $DataToPivot.where({$_.$pivotby -eq $rowHeading}) | Out-TreeView -ExcludeProperty $PivotBy -TitleHtml $rowHeading \n",
    "    $html = $html -replace \"<td>\\s*$rowHeading\\s*</td>\" ,\"<td>$tree</td>\"\n",
    "}\n",
    "[Microsoft.DotNet.Interactive.Kernel]::HTML($html) | Out-Display "
   ]
  },
  {
   "cell_type": "markdown",
   "metadata": {},
   "source": [
    "## Two-way pivoting"
   ]
  },
  {
   "cell_type": "code",
   "execution_count": null,
   "metadata": {
    "dotnet_interactive": {
     "language": "pwsh"
    }
   },
   "outputs": [
    {
     "name": "stdout",
     "output_type": "stream",
     "text": [
      "\r\n",
      "Product   Average_Friday Average_Monday Average_Saturday Average_Sunday Average_Thursday Average_Tuesday Average_Wednesday\u001b[0m\r\n",
      "-------   -------------- -------------- ---------------- -------------- ---------------- --------------- -----------------\u001b[0m\r\n",
      "Asparagus            4.4            4.8            5.029          4.029            4.057           4.486               5.2\r\n",
      "Cucumber           4.714          4.714            4.943            5.2            4.486           5.486             4.314\r\n",
      "Lettuce            4.886          5.457            5.829          4.686            5.314           5.171             4.486\r\n",
      "Potato             4.371          5.257                5          4.171            4.143           4.171             4.629\r\n",
      "Tomato               5.4          4.629              4.4            4.8            4.971           5.486             5.371\r\n",
      "\r\n"
     ]
    }
   ],
   "source": [
    "$PivotBy     = 'Product' \n",
    "$aggFunction = 'Average' \n",
    "$dataToPivot  |  New-PSPivotTable -index $PivotBy  -aggregateFunction $aggFunction -column day -values  sales  -outvar Pivoted -fill 0 | ft"
   ]
  },
  {
   "cell_type": "code",
   "execution_count": null,
   "metadata": {
    "dotnet_interactive": {
     "language": "pwsh"
    }
   },
   "outputs": [
    {
     "data": {
      "text/html": [
       "<table> <colgroup><col/><col/><col/><col/><col/><col/><col/><col/></colgroup> <tr><th>Product</th><th>Average_Friday</th><th>Average_Monday</th><th>Average_Saturday</th><th>Average_Sunday</th><th>Average_Thursday</th><th>Average_Tuesday</th><th>Average_Wednesday</th></tr> <tr><td><details class=\"dni-treeview\"><summary><span class=\"dni-code-hint\">Asparagus</span></summary><div><table>\r\n",
       "  <thead>\r\n",
       "    <tr><td>Day</td><td>location</td><td>Sales</td></tr>\r\n",
       "  </thead>\r\n",
       "  <tbody>\r\n",
       "    <tr><td><span><div class=\"dni-plaintext\">Monday</div></span></td><td><span><div class=\"dni-plaintext\">London</div></span></td><td><span><div class=\"dni-plaintext\">49</div></span></td></tr>\r\n",
       "    <tr><td><span><div class=\"dni-plaintext\">Tuesday</div></span></td><td><span><div class=\"dni-plaintext\">London</div></span></td><td><span><div class=\"dni-plaintext\">38</div></span></td></tr>\r\n",
       "    <tr><td><span><div class=\"dni-plaintext\">Wednesday</div></span></td><td><span><div class=\"dni-plaintext\">London</div></span></td><td><span><div class=\"dni-plaintext\">31</div></span></td></tr>\r\n",
       "    <tr><td><span><div class=\"dni-plaintext\">Thursday</div></span></td><td><span><div class=\"dni-plaintext\">London</div></span></td><td><span><div class=\"dni-plaintext\">21</div></span></td></tr>\r\n",
       "    <tr><td><span><div class=\"dni-plaintext\">Friday</div></span></td><td><span><div class=\"dni-plaintext\">London</div></span></td><td><span><div class=\"dni-plaintext\">27</div></span></td></tr>\r\n",
       "    <tr><td><span><div class=\"dni-plaintext\">Saturday</div></span></td><td><span><div class=\"dni-plaintext\">London</div></span></td><td><span><div class=\"dni-plaintext\">32</div></span></td></tr>\r\n",
       "    <tr><td><span><div class=\"dni-plaintext\">Sunday</div></span></td><td><span><div class=\"dni-plaintext\">London</div></span></td><td><span><div class=\"dni-plaintext\">29</div></span></td></tr>\r\n",
       "    <tr><td><span><div class=\"dni-plaintext\">Monday</div></span></td><td><span><div class=\"dni-plaintext\">Edinburgh</div></span></td><td><span><div class=\"dni-plaintext\">25</div></span></td></tr>\r\n",
       "    <tr><td><span><div class=\"dni-plaintext\">Tuesday</div></span></td><td><span><div class=\"dni-plaintext\">Edinburgh</div></span></td><td><span><div class=\"dni-plaintext\">26</div></span></td></tr>\r\n",
       "    <tr><td><span><div class=\"dni-plaintext\">Wednesday</div></span></td><td><span><div class=\"dni-plaintext\">Edinburgh</div></span></td><td><span><div class=\"dni-plaintext\">41</div></span></td></tr>\r\n",
       "    <tr><td><span><div class=\"dni-plaintext\">Thursday</div></span></td><td><span><div class=\"dni-plaintext\">Edinburgh</div></span></td><td><span><div class=\"dni-plaintext\">31</div></span></td></tr>\r\n",
       "    <tr><td><span><div class=\"dni-plaintext\">Friday</div></span></td><td><span><div class=\"dni-plaintext\">Edinburgh</div></span></td><td><span><div class=\"dni-plaintext\">30</div></span></td></tr>\r\n",
       "    <tr><td><span><div class=\"dni-plaintext\">Saturday</div></span></td><td><span><div class=\"dni-plaintext\">Edinburgh</div></span></td><td><span><div class=\"dni-plaintext\">47</div></span></td></tr>\r\n",
       "    <tr><td><span><div class=\"dni-plaintext\">Sunday</div></span></td><td><span><div class=\"dni-plaintext\">Edinburgh</div></span></td><td><span><div class=\"dni-plaintext\">37</div></span></td></tr>\r\n",
       "    <tr><td><span><div class=\"dni-plaintext\">Monday</div></span></td><td><span><div class=\"dni-plaintext\">Glasgow</div></span></td><td><span><div class=\"dni-plaintext\">29</div></span></td></tr>\r\n",
       "    <tr><td><span><div class=\"dni-plaintext\">Tuesday</div></span></td><td><span><div class=\"dni-plaintext\">Glasgow</div></span></td><td><span><div class=\"dni-plaintext\">38</div></span></td></tr>\r\n",
       "    <tr><td><span><div class=\"dni-plaintext\">Wednesday</div></span></td><td><span><div class=\"dni-plaintext\">Glasgow</div></span></td><td><span><div class=\"dni-plaintext\">44</div></span></td></tr>\r\n",
       "    <tr><td><span><div class=\"dni-plaintext\">Thursday</div></span></td><td><span><div class=\"dni-plaintext\">Glasgow</div></span></td><td><span><div class=\"dni-plaintext\">35</div></span></td></tr>\r\n",
       "    <tr><td><span><div class=\"dni-plaintext\">Friday</div></span></td><td><span><div class=\"dni-plaintext\">Glasgow</div></span></td><td><span><div class=\"dni-plaintext\">28</div></span></td></tr>\r\n",
       "    <tr><td><span><div class=\"dni-plaintext\">Saturday</div></span></td><td><span><div class=\"dni-plaintext\">Glasgow</div></span></td><td><span><div class=\"dni-plaintext\">33</div></span></td></tr>\r\n",
       "    <tr><td><span><div class=\"dni-plaintext\">Sunday</div></span></td><td><span><div class=\"dni-plaintext\">Glasgow</div></span></td><td><span><div class=\"dni-plaintext\">24</div></span></td></tr>\r\n",
       "    <tr><td><span><div class=\"dni-plaintext\">Monday</div></span></td><td><span><div class=\"dni-plaintext\">Birmingham</div></span></td><td><span><div class=\"dni-plaintext\">35</div></span></td></tr>\r\n",
       "    <tr><td><span><div class=\"dni-plaintext\">Tuesday</div></span></td><td><span><div class=\"dni-plaintext\">Birmingham</div></span></td><td><span><div class=\"dni-plaintext\">31</div></span></td></tr>\r\n",
       "    <tr><td><span><div class=\"dni-plaintext\">Wednesday</div></span></td><td><span><div class=\"dni-plaintext\">Birmingham</div></span></td><td><span><div class=\"dni-plaintext\">40</div></span></td></tr>\r\n",
       "    <tr><td><span><div class=\"dni-plaintext\">Thursday</div></span></td><td><span><div class=\"dni-plaintext\">Birmingham</div></span></td><td><span><div class=\"dni-plaintext\">29</div></span></td></tr>\r\n",
       "    <tr><td><span><div class=\"dni-plaintext\">Friday</div></span></td><td><span><div class=\"dni-plaintext\">Birmingham</div></span></td><td><span><div class=\"dni-plaintext\">32</div></span></td></tr>\r\n",
       "    <tr><td><span><div class=\"dni-plaintext\">Saturday</div></span></td><td><span><div class=\"dni-plaintext\">Birmingham</div></span></td><td><span><div class=\"dni-plaintext\">26</div></span></td></tr>\r\n",
       "    <tr><td><span><div class=\"dni-plaintext\">Sunday</div></span></td><td><span><div class=\"dni-plaintext\">Birmingham</div></span></td><td><span><div class=\"dni-plaintext\">23</div></span></td></tr>\r\n",
       "    <tr><td><span><div class=\"dni-plaintext\">Monday</div></span></td><td><span><div class=\"dni-plaintext\">Cardiff</div></span></td><td><span><div class=\"dni-plaintext\">30</div></span></td></tr>\r\n",
       "    <tr><td><span><div class=\"dni-plaintext\">Tuesday</div></span></td><td><span><div class=\"dni-plaintext\">Cardiff</div></span></td><td><span><div class=\"dni-plaintext\">24</div></span></td></tr>\r\n",
       "    <tr><td><span><div class=\"dni-plaintext\">Wednesday</div></span></td><td><span><div class=\"dni-plaintext\">Cardiff</div></span></td><td><span><div class=\"dni-plaintext\">26</div></span></td></tr>\r\n",
       "    <tr><td><span><div class=\"dni-plaintext\">Thursday</div></span></td><td><span><div class=\"dni-plaintext\">Cardiff</div></span></td><td><span><div class=\"dni-plaintext\">26</div></span></td></tr>\r\n",
       "    <tr><td><span><div class=\"dni-plaintext\">Friday</div></span></td><td><span><div class=\"dni-plaintext\">Cardiff</div></span></td><td><span><div class=\"dni-plaintext\">37</div></span></td></tr>\r\n",
       "    <tr><td><span><div class=\"dni-plaintext\">Saturday</div></span></td><td><span><div class=\"dni-plaintext\">Cardiff</div></span></td><td><span><div class=\"dni-plaintext\">38</div></span></td></tr>\r\n",
       "    <tr><td><span><div class=\"dni-plaintext\">Sunday</div></span></td><td><span><div class=\"dni-plaintext\">Cardiff</div></span></td><td><span><div class=\"dni-plaintext\">28</div></span></td></tr>\r\n",
       "  </tbody>\r\n",
       "</table></div></details>\r\n",
       "</td><td>4.4</td><td>4.8</td><td>5.029</td><td>4.029</td><td>4.057</td><td>4.486</td><td>5.2</td></tr> <tr><td><details class=\"dni-treeview\"><summary><span class=\"dni-code-hint\">Cucumber</span></summary><div><table>\r\n",
       "  <thead>\r\n",
       "    <tr><td>Day</td><td>location</td><td>Sales</td></tr>\r\n",
       "  </thead>\r\n",
       "  <tbody>\r\n",
       "    <tr><td><span><div class=\"dni-plaintext\">Monday</div></span></td><td><span><div class=\"dni-plaintext\">London</div></span></td><td><span><div class=\"dni-plaintext\">46</div></span></td></tr>\r\n",
       "    <tr><td><span><div class=\"dni-plaintext\">Tuesday</div></span></td><td><span><div class=\"dni-plaintext\">London</div></span></td><td><span><div class=\"dni-plaintext\">30</div></span></td></tr>\r\n",
       "    <tr><td><span><div class=\"dni-plaintext\">Wednesday</div></span></td><td><span><div class=\"dni-plaintext\">London</div></span></td><td><span><div class=\"dni-plaintext\">25</div></span></td></tr>\r\n",
       "    <tr><td><span><div class=\"dni-plaintext\">Thursday</div></span></td><td><span><div class=\"dni-plaintext\">London</div></span></td><td><span><div class=\"dni-plaintext\">47</div></span></td></tr>\r\n",
       "    <tr><td><span><div class=\"dni-plaintext\">Friday</div></span></td><td><span><div class=\"dni-plaintext\">London</div></span></td><td><span><div class=\"dni-plaintext\">38</div></span></td></tr>\r\n",
       "    <tr><td><span><div class=\"dni-plaintext\">Saturday</div></span></td><td><span><div class=\"dni-plaintext\">London</div></span></td><td><span><div class=\"dni-plaintext\">32</div></span></td></tr>\r\n",
       "    <tr><td><span><div class=\"dni-plaintext\">Sunday</div></span></td><td><span><div class=\"dni-plaintext\">London</div></span></td><td><span><div class=\"dni-plaintext\">28</div></span></td></tr>\r\n",
       "    <tr><td><span><div class=\"dni-plaintext\">Monday</div></span></td><td><span><div class=\"dni-plaintext\">Edinburgh</div></span></td><td><span><div class=\"dni-plaintext\">29</div></span></td></tr>\r\n",
       "    <tr><td><span><div class=\"dni-plaintext\">Tuesday</div></span></td><td><span><div class=\"dni-plaintext\">Edinburgh</div></span></td><td><span><div class=\"dni-plaintext\">44</div></span></td></tr>\r\n",
       "    <tr><td><span><div class=\"dni-plaintext\">Wednesday</div></span></td><td><span><div class=\"dni-plaintext\">Edinburgh</div></span></td><td><span><div class=\"dni-plaintext\">46</div></span></td></tr>\r\n",
       "    <tr><td><span><div class=\"dni-plaintext\">Thursday</div></span></td><td><span><div class=\"dni-plaintext\">Edinburgh</div></span></td><td><span><div class=\"dni-plaintext\">39</div></span></td></tr>\r\n",
       "    <tr><td><span><div class=\"dni-plaintext\">Friday</div></span></td><td><span><div class=\"dni-plaintext\">Edinburgh</div></span></td><td><span><div class=\"dni-plaintext\">36</div></span></td></tr>\r\n",
       "    <tr><td><span><div class=\"dni-plaintext\">Saturday</div></span></td><td><span><div class=\"dni-plaintext\">Edinburgh</div></span></td><td><span><div class=\"dni-plaintext\">33</div></span></td></tr>\r\n",
       "    <tr><td><span><div class=\"dni-plaintext\">Sunday</div></span></td><td><span><div class=\"dni-plaintext\">Edinburgh</div></span></td><td><span><div class=\"dni-plaintext\">43</div></span></td></tr>\r\n",
       "    <tr><td><span><div class=\"dni-plaintext\">Monday</div></span></td><td><span><div class=\"dni-plaintext\">Glasgow</div></span></td><td><span><div class=\"dni-plaintext\">29</div></span></td></tr>\r\n",
       "    <tr><td><span><div class=\"dni-plaintext\">Tuesday</div></span></td><td><span><div class=\"dni-plaintext\">Glasgow</div></span></td><td><span><div class=\"dni-plaintext\">32</div></span></td></tr>\r\n",
       "    <tr><td><span><div class=\"dni-plaintext\">Wednesday</div></span></td><td><span><div class=\"dni-plaintext\">Glasgow</div></span></td><td><span><div class=\"dni-plaintext\">20</div></span></td></tr>\r\n",
       "    <tr><td><span><div class=\"dni-plaintext\">Thursday</div></span></td><td><span><div class=\"dni-plaintext\">Glasgow</div></span></td><td><span><div class=\"dni-plaintext\">21</div></span></td></tr>\r\n",
       "    <tr><td><span><div class=\"dni-plaintext\">Friday</div></span></td><td><span><div class=\"dni-plaintext\">Glasgow</div></span></td><td><span><div class=\"dni-plaintext\">39</div></span></td></tr>\r\n",
       "    <tr><td><span><div class=\"dni-plaintext\">Saturday</div></span></td><td><span><div class=\"dni-plaintext\">Glasgow</div></span></td><td><span><div class=\"dni-plaintext\">22</div></span></td></tr>\r\n",
       "    <tr><td><span><div class=\"dni-plaintext\">Sunday</div></span></td><td><span><div class=\"dni-plaintext\">Glasgow</div></span></td><td><span><div class=\"dni-plaintext\">27</div></span></td></tr>\r\n",
       "    <tr><td><span><div class=\"dni-plaintext\">Monday</div></span></td><td><span><div class=\"dni-plaintext\">Birmingham</div></span></td><td><span><div class=\"dni-plaintext\">27</div></span></td></tr>\r\n",
       "    <tr><td><span><div class=\"dni-plaintext\">Tuesday</div></span></td><td><span><div class=\"dni-plaintext\">Birmingham</div></span></td><td><span><div class=\"dni-plaintext\">39</div></span></td></tr>\r\n",
       "    <tr><td><span><div class=\"dni-plaintext\">Wednesday</div></span></td><td><span><div class=\"dni-plaintext\">Birmingham</div></span></td><td><span><div class=\"dni-plaintext\">33</div></span></td></tr>\r\n",
       "    <tr><td><span><div class=\"dni-plaintext\">Thursday</div></span></td><td><span><div class=\"dni-plaintext\">Birmingham</div></span></td><td><span><div class=\"dni-plaintext\">21</div></span></td></tr>\r\n",
       "    <tr><td><span><div class=\"dni-plaintext\">Friday</div></span></td><td><span><div class=\"dni-plaintext\">Birmingham</div></span></td><td><span><div class=\"dni-plaintext\">31</div></span></td></tr>\r\n",
       "    <tr><td><span><div class=\"dni-plaintext\">Saturday</div></span></td><td><span><div class=\"dni-plaintext\">Birmingham</div></span></td><td><span><div class=\"dni-plaintext\">44</div></span></td></tr>\r\n",
       "    <tr><td><span><div class=\"dni-plaintext\">Sunday</div></span></td><td><span><div class=\"dni-plaintext\">Birmingham</div></span></td><td><span><div class=\"dni-plaintext\">47</div></span></td></tr>\r\n",
       "    <tr><td><span><div class=\"dni-plaintext\">Monday</div></span></td><td><span><div class=\"dni-plaintext\">Cardiff</div></span></td><td><span><div class=\"dni-plaintext\">34</div></span></td></tr>\r\n",
       "    <tr><td><span><div class=\"dni-plaintext\">Tuesday</div></span></td><td><span><div class=\"dni-plaintext\">Cardiff</div></span></td><td><span><div class=\"dni-plaintext\">47</div></span></td></tr>\r\n",
       "    <tr><td><span><div class=\"dni-plaintext\">Wednesday</div></span></td><td><span><div class=\"dni-plaintext\">Cardiff</div></span></td><td><span><div class=\"dni-plaintext\">27</div></span></td></tr>\r\n",
       "    <tr><td><span><div class=\"dni-plaintext\">Thursday</div></span></td><td><span><div class=\"dni-plaintext\">Cardiff</div></span></td><td><span><div class=\"dni-plaintext\">29</div></span></td></tr>\r\n",
       "    <tr><td><span><div class=\"dni-plaintext\">Friday</div></span></td><td><span><div class=\"dni-plaintext\">Cardiff</div></span></td><td><span><div class=\"dni-plaintext\">21</div></span></td></tr>\r\n",
       "    <tr><td><span><div class=\"dni-plaintext\">Saturday</div></span></td><td><span><div class=\"dni-plaintext\">Cardiff</div></span></td><td><span><div class=\"dni-plaintext\">42</div></span></td></tr>\r\n",
       "    <tr><td><span><div class=\"dni-plaintext\">Sunday</div></span></td><td><span><div class=\"dni-plaintext\">Cardiff</div></span></td><td><span><div class=\"dni-plaintext\">37</div></span></td></tr>\r\n",
       "  </tbody>\r\n",
       "</table></div></details>\r\n",
       "</td><td>4.714</td><td>4.714</td><td>4.943</td><td>5.2</td><td>4.486</td><td>5.486</td><td>4.314</td></tr> <tr><td><details class=\"dni-treeview\"><summary><span class=\"dni-code-hint\">Lettuce</span></summary><div><table>\r\n",
       "  <thead>\r\n",
       "    <tr><td>Day</td><td>location</td><td>Sales</td></tr>\r\n",
       "  </thead>\r\n",
       "  <tbody>\r\n",
       "    <tr><td><span><div class=\"dni-plaintext\">Monday</div></span></td><td><span><div class=\"dni-plaintext\">London</div></span></td><td><span><div class=\"dni-plaintext\">41</div></span></td></tr>\r\n",
       "    <tr><td><span><div class=\"dni-plaintext\">Tuesday</div></span></td><td><span><div class=\"dni-plaintext\">London</div></span></td><td><span><div class=\"dni-plaintext\">36</div></span></td></tr>\r\n",
       "    <tr><td><span><div class=\"dni-plaintext\">Wednesday</div></span></td><td><span><div class=\"dni-plaintext\">London</div></span></td><td><span><div class=\"dni-plaintext\">27</div></span></td></tr>\r\n",
       "    <tr><td><span><div class=\"dni-plaintext\">Thursday</div></span></td><td><span><div class=\"dni-plaintext\">London</div></span></td><td><span><div class=\"dni-plaintext\">44</div></span></td></tr>\r\n",
       "    <tr><td><span><div class=\"dni-plaintext\">Friday</div></span></td><td><span><div class=\"dni-plaintext\">London</div></span></td><td><span><div class=\"dni-plaintext\">35</div></span></td></tr>\r\n",
       "    <tr><td><span><div class=\"dni-plaintext\">Saturday</div></span></td><td><span><div class=\"dni-plaintext\">London</div></span></td><td><span><div class=\"dni-plaintext\">39</div></span></td></tr>\r\n",
       "    <tr><td><span><div class=\"dni-plaintext\">Sunday</div></span></td><td><span><div class=\"dni-plaintext\">London</div></span></td><td><span><div class=\"dni-plaintext\">37</div></span></td></tr>\r\n",
       "    <tr><td><span><div class=\"dni-plaintext\">Monday</div></span></td><td><span><div class=\"dni-plaintext\">Edinburgh</div></span></td><td><span><div class=\"dni-plaintext\">36</div></span></td></tr>\r\n",
       "    <tr><td><span><div class=\"dni-plaintext\">Tuesday</div></span></td><td><span><div class=\"dni-plaintext\">Edinburgh</div></span></td><td><span><div class=\"dni-plaintext\">32</div></span></td></tr>\r\n",
       "    <tr><td><span><div class=\"dni-plaintext\">Wednesday</div></span></td><td><span><div class=\"dni-plaintext\">Edinburgh</div></span></td><td><span><div class=\"dni-plaintext\">38</div></span></td></tr>\r\n",
       "    <tr><td><span><div class=\"dni-plaintext\">Thursday</div></span></td><td><span><div class=\"dni-plaintext\">Edinburgh</div></span></td><td><span><div class=\"dni-plaintext\">36</div></span></td></tr>\r\n",
       "    <tr><td><span><div class=\"dni-plaintext\">Friday</div></span></td><td><span><div class=\"dni-plaintext\">Edinburgh</div></span></td><td><span><div class=\"dni-plaintext\">47</div></span></td></tr>\r\n",
       "    <tr><td><span><div class=\"dni-plaintext\">Saturday</div></span></td><td><span><div class=\"dni-plaintext\">Edinburgh</div></span></td><td><span><div class=\"dni-plaintext\">39</div></span></td></tr>\r\n",
       "    <tr><td><span><div class=\"dni-plaintext\">Sunday</div></span></td><td><span><div class=\"dni-plaintext\">Edinburgh</div></span></td><td><span><div class=\"dni-plaintext\">35</div></span></td></tr>\r\n",
       "    <tr><td><span><div class=\"dni-plaintext\">Monday</div></span></td><td><span><div class=\"dni-plaintext\">Glasgow</div></span></td><td><span><div class=\"dni-plaintext\">25</div></span></td></tr>\r\n",
       "    <tr><td><span><div class=\"dni-plaintext\">Tuesday</div></span></td><td><span><div class=\"dni-plaintext\">Glasgow</div></span></td><td><span><div class=\"dni-plaintext\">46</div></span></td></tr>\r\n",
       "    <tr><td><span><div class=\"dni-plaintext\">Wednesday</div></span></td><td><span><div class=\"dni-plaintext\">Glasgow</div></span></td><td><span><div class=\"dni-plaintext\">26</div></span></td></tr>\r\n",
       "    <tr><td><span><div class=\"dni-plaintext\">Thursday</div></span></td><td><span><div class=\"dni-plaintext\">Glasgow</div></span></td><td><span><div class=\"dni-plaintext\">25</div></span></td></tr>\r\n",
       "    <tr><td><span><div class=\"dni-plaintext\">Friday</div></span></td><td><span><div class=\"dni-plaintext\">Glasgow</div></span></td><td><span><div class=\"dni-plaintext\">45</div></span></td></tr>\r\n",
       "    <tr><td><span><div class=\"dni-plaintext\">Saturday</div></span></td><td><span><div class=\"dni-plaintext\">Glasgow</div></span></td><td><span><div class=\"dni-plaintext\">33</div></span></td></tr>\r\n",
       "    <tr><td><span><div class=\"dni-plaintext\">Sunday</div></span></td><td><span><div class=\"dni-plaintext\">Glasgow</div></span></td><td><span><div class=\"dni-plaintext\">29</div></span></td></tr>\r\n",
       "    <tr><td><span><div class=\"dni-plaintext\">Monday</div></span></td><td><span><div class=\"dni-plaintext\">Birmingham</div></span></td><td><span><div class=\"dni-plaintext\">49</div></span></td></tr>\r\n",
       "    <tr><td><span><div class=\"dni-plaintext\">Tuesday</div></span></td><td><span><div class=\"dni-plaintext\">Birmingham</div></span></td><td><span><div class=\"dni-plaintext\">41</div></span></td></tr>\r\n",
       "    <tr><td><span><div class=\"dni-plaintext\">Wednesday</div></span></td><td><span><div class=\"dni-plaintext\">Birmingham</div></span></td><td><span><div class=\"dni-plaintext\">28</div></span></td></tr>\r\n",
       "    <tr><td><span><div class=\"dni-plaintext\">Thursday</div></span></td><td><span><div class=\"dni-plaintext\">Birmingham</div></span></td><td><span><div class=\"dni-plaintext\">38</div></span></td></tr>\r\n",
       "    <tr><td><span><div class=\"dni-plaintext\">Friday</div></span></td><td><span><div class=\"dni-plaintext\">Birmingham</div></span></td><td><span><div class=\"dni-plaintext\">21</div></span></td></tr>\r\n",
       "    <tr><td><span><div class=\"dni-plaintext\">Saturday</div></span></td><td><span><div class=\"dni-plaintext\">Birmingham</div></span></td><td><span><div class=\"dni-plaintext\">46</div></span></td></tr>\r\n",
       "    <tr><td><span><div class=\"dni-plaintext\">Sunday</div></span></td><td><span><div class=\"dni-plaintext\">Birmingham</div></span></td><td><span><div class=\"dni-plaintext\">42</div></span></td></tr>\r\n",
       "    <tr><td><span><div class=\"dni-plaintext\">Monday</div></span></td><td><span><div class=\"dni-plaintext\">Cardiff</div></span></td><td><span><div class=\"dni-plaintext\">40</div></span></td></tr>\r\n",
       "    <tr><td><span><div class=\"dni-plaintext\">Tuesday</div></span></td><td><span><div class=\"dni-plaintext\">Cardiff</div></span></td><td><span><div class=\"dni-plaintext\">26</div></span></td></tr>\r\n",
       "    <tr><td><span><div class=\"dni-plaintext\">Wednesday</div></span></td><td><span><div class=\"dni-plaintext\">Cardiff</div></span></td><td><span><div class=\"dni-plaintext\">38</div></span></td></tr>\r\n",
       "    <tr><td><span><div class=\"dni-plaintext\">Thursday</div></span></td><td><span><div class=\"dni-plaintext\">Cardiff</div></span></td><td><span><div class=\"dni-plaintext\">43</div></span></td></tr>\r\n",
       "    <tr><td><span><div class=\"dni-plaintext\">Friday</div></span></td><td><span><div class=\"dni-plaintext\">Cardiff</div></span></td><td><span><div class=\"dni-plaintext\">23</div></span></td></tr>\r\n",
       "    <tr><td><span><div class=\"dni-plaintext\">Saturday</div></span></td><td><span><div class=\"dni-plaintext\">Cardiff</div></span></td><td><span><div class=\"dni-plaintext\">47</div></span></td></tr>\r\n",
       "    <tr><td><span><div class=\"dni-plaintext\">Sunday</div></span></td><td><span><div class=\"dni-plaintext\">Cardiff</div></span></td><td><span><div class=\"dni-plaintext\">21</div></span></td></tr>\r\n",
       "  </tbody>\r\n",
       "</table></div></details>\r\n",
       "</td><td>4.886</td><td>5.457</td><td>5.829</td><td>4.686</td><td>5.314</td><td>5.171</td><td>4.486</td></tr> <tr><td><details class=\"dni-treeview\"><summary><span class=\"dni-code-hint\">Potato</span></summary><div><table>\r\n",
       "  <thead>\r\n",
       "    <tr><td>Day</td><td>location</td><td>Sales</td></tr>\r\n",
       "  </thead>\r\n",
       "  <tbody>\r\n",
       "    <tr><td><span><div class=\"dni-plaintext\">Monday</div></span></td><td><span><div class=\"dni-plaintext\">London</div></span></td><td><span><div class=\"dni-plaintext\">30</div></span></td></tr>\r\n",
       "    <tr><td><span><div class=\"dni-plaintext\">Tuesday</div></span></td><td><span><div class=\"dni-plaintext\">London</div></span></td><td><span><div class=\"dni-plaintext\">27</div></span></td></tr>\r\n",
       "    <tr><td><span><div class=\"dni-plaintext\">Wednesday</div></span></td><td><span><div class=\"dni-plaintext\">London</div></span></td><td><span><div class=\"dni-plaintext\">30</div></span></td></tr>\r\n",
       "    <tr><td><span><div class=\"dni-plaintext\">Thursday</div></span></td><td><span><div class=\"dni-plaintext\">London</div></span></td><td><span><div class=\"dni-plaintext\">37</div></span></td></tr>\r\n",
       "    <tr><td><span><div class=\"dni-plaintext\">Friday</div></span></td><td><span><div class=\"dni-plaintext\">London</div></span></td><td><span><div class=\"dni-plaintext\">39</div></span></td></tr>\r\n",
       "    <tr><td><span><div class=\"dni-plaintext\">Saturday</div></span></td><td><span><div class=\"dni-plaintext\">London</div></span></td><td><span><div class=\"dni-plaintext\">31</div></span></td></tr>\r\n",
       "    <tr><td><span><div class=\"dni-plaintext\">Sunday</div></span></td><td><span><div class=\"dni-plaintext\">London</div></span></td><td><span><div class=\"dni-plaintext\">39</div></span></td></tr>\r\n",
       "    <tr><td><span><div class=\"dni-plaintext\">Monday</div></span></td><td><span><div class=\"dni-plaintext\">Edinburgh</div></span></td><td><span><div class=\"dni-plaintext\">35</div></span></td></tr>\r\n",
       "    <tr><td><span><div class=\"dni-plaintext\">Tuesday</div></span></td><td><span><div class=\"dni-plaintext\">Edinburgh</div></span></td><td><span><div class=\"dni-plaintext\">28</div></span></td></tr>\r\n",
       "    <tr><td><span><div class=\"dni-plaintext\">Wednesday</div></span></td><td><span><div class=\"dni-plaintext\">Edinburgh</div></span></td><td><span><div class=\"dni-plaintext\">26</div></span></td></tr>\r\n",
       "    <tr><td><span><div class=\"dni-plaintext\">Thursday</div></span></td><td><span><div class=\"dni-plaintext\">Edinburgh</div></span></td><td><span><div class=\"dni-plaintext\">20</div></span></td></tr>\r\n",
       "    <tr><td><span><div class=\"dni-plaintext\">Friday</div></span></td><td><span><div class=\"dni-plaintext\">Edinburgh</div></span></td><td><span><div class=\"dni-plaintext\">24</div></span></td></tr>\r\n",
       "    <tr><td><span><div class=\"dni-plaintext\">Saturday</div></span></td><td><span><div class=\"dni-plaintext\">Edinburgh</div></span></td><td><span><div class=\"dni-plaintext\">39</div></span></td></tr>\r\n",
       "    <tr><td><span><div class=\"dni-plaintext\">Sunday</div></span></td><td><span><div class=\"dni-plaintext\">Edinburgh</div></span></td><td><span><div class=\"dni-plaintext\">28</div></span></td></tr>\r\n",
       "    <tr><td><span><div class=\"dni-plaintext\">Monday</div></span></td><td><span><div class=\"dni-plaintext\">Glasgow</div></span></td><td><span><div class=\"dni-plaintext\">47</div></span></td></tr>\r\n",
       "    <tr><td><span><div class=\"dni-plaintext\">Tuesday</div></span></td><td><span><div class=\"dni-plaintext\">Glasgow</div></span></td><td><span><div class=\"dni-plaintext\">22</div></span></td></tr>\r\n",
       "    <tr><td><span><div class=\"dni-plaintext\">Wednesday</div></span></td><td><span><div class=\"dni-plaintext\">Glasgow</div></span></td><td><span><div class=\"dni-plaintext\">27</div></span></td></tr>\r\n",
       "    <tr><td><span><div class=\"dni-plaintext\">Thursday</div></span></td><td><span><div class=\"dni-plaintext\">Glasgow</div></span></td><td><span><div class=\"dni-plaintext\">46</div></span></td></tr>\r\n",
       "    <tr><td><span><div class=\"dni-plaintext\">Friday</div></span></td><td><span><div class=\"dni-plaintext\">Glasgow</div></span></td><td><span><div class=\"dni-plaintext\">32</div></span></td></tr>\r\n",
       "    <tr><td><span><div class=\"dni-plaintext\">Saturday</div></span></td><td><span><div class=\"dni-plaintext\">Glasgow</div></span></td><td><span><div class=\"dni-plaintext\">29</div></span></td></tr>\r\n",
       "    <tr><td><span><div class=\"dni-plaintext\">Sunday</div></span></td><td><span><div class=\"dni-plaintext\">Glasgow</div></span></td><td><span><div class=\"dni-plaintext\">24</div></span></td></tr>\r\n",
       "    <tr><td><span><div class=\"dni-plaintext\">Monday</div></span></td><td><span><div class=\"dni-plaintext\">Birmingham</div></span></td><td><span><div class=\"dni-plaintext\">31</div></span></td></tr>\r\n",
       "    <tr><td><span><div class=\"dni-plaintext\">Tuesday</div></span></td><td><span><div class=\"dni-plaintext\">Birmingham</div></span></td><td><span><div class=\"dni-plaintext\">20</div></span></td></tr>\r\n",
       "    <tr><td><span><div class=\"dni-plaintext\">Wednesday</div></span></td><td><span><div class=\"dni-plaintext\">Birmingham</div></span></td><td><span><div class=\"dni-plaintext\">47</div></span></td></tr>\r\n",
       "    <tr><td><span><div class=\"dni-plaintext\">Thursday</div></span></td><td><span><div class=\"dni-plaintext\">Birmingham</div></span></td><td><span><div class=\"dni-plaintext\">20</div></span></td></tr>\r\n",
       "    <tr><td><span><div class=\"dni-plaintext\">Friday</div></span></td><td><span><div class=\"dni-plaintext\">Birmingham</div></span></td><td><span><div class=\"dni-plaintext\">31</div></span></td></tr>\r\n",
       "    <tr><td><span><div class=\"dni-plaintext\">Saturday</div></span></td><td><span><div class=\"dni-plaintext\">Birmingham</div></span></td><td><span><div class=\"dni-plaintext\">29</div></span></td></tr>\r\n",
       "    <tr><td><span><div class=\"dni-plaintext\">Sunday</div></span></td><td><span><div class=\"dni-plaintext\">Birmingham</div></span></td><td><span><div class=\"dni-plaintext\">29</div></span></td></tr>\r\n",
       "    <tr><td><span><div class=\"dni-plaintext\">Monday</div></span></td><td><span><div class=\"dni-plaintext\">Cardiff</div></span></td><td><span><div class=\"dni-plaintext\">41</div></span></td></tr>\r\n",
       "    <tr><td><span><div class=\"dni-plaintext\">Tuesday</div></span></td><td><span><div class=\"dni-plaintext\">Cardiff</div></span></td><td><span><div class=\"dni-plaintext\">49</div></span></td></tr>\r\n",
       "    <tr><td><span><div class=\"dni-plaintext\">Wednesday</div></span></td><td><span><div class=\"dni-plaintext\">Cardiff</div></span></td><td><span><div class=\"dni-plaintext\">32</div></span></td></tr>\r\n",
       "    <tr><td><span><div class=\"dni-plaintext\">Thursday</div></span></td><td><span><div class=\"dni-plaintext\">Cardiff</div></span></td><td><span><div class=\"dni-plaintext\">22</div></span></td></tr>\r\n",
       "    <tr><td><span><div class=\"dni-plaintext\">Friday</div></span></td><td><span><div class=\"dni-plaintext\">Cardiff</div></span></td><td><span><div class=\"dni-plaintext\">27</div></span></td></tr>\r\n",
       "    <tr><td><span><div class=\"dni-plaintext\">Saturday</div></span></td><td><span><div class=\"dni-plaintext\">Cardiff</div></span></td><td><span><div class=\"dni-plaintext\">47</div></span></td></tr>\r\n",
       "    <tr><td><span><div class=\"dni-plaintext\">Sunday</div></span></td><td><span><div class=\"dni-plaintext\">Cardiff</div></span></td><td><span><div class=\"dni-plaintext\">26</div></span></td></tr>\r\n",
       "  </tbody>\r\n",
       "</table></div></details>\r\n",
       "</td><td>4.371</td><td>5.257</td><td>5</td><td>4.171</td><td>4.143</td><td>4.171</td><td>4.629</td></tr> <tr><td><details class=\"dni-treeview\"><summary><span class=\"dni-code-hint\">Tomato</span></summary><div><table>\r\n",
       "  <thead>\r\n",
       "    <tr><td>Day</td><td>location</td><td>Sales</td></tr>\r\n",
       "  </thead>\r\n",
       "  <tbody>\r\n",
       "    <tr><td><span><div class=\"dni-plaintext\">Monday</div></span></td><td><span><div class=\"dni-plaintext\">London</div></span></td><td><span><div class=\"dni-plaintext\">35</div></span></td></tr>\r\n",
       "    <tr><td><span><div class=\"dni-plaintext\">Tuesday</div></span></td><td><span><div class=\"dni-plaintext\">London</div></span></td><td><span><div class=\"dni-plaintext\">26</div></span></td></tr>\r\n",
       "    <tr><td><span><div class=\"dni-plaintext\">Wednesday</div></span></td><td><span><div class=\"dni-plaintext\">London</div></span></td><td><span><div class=\"dni-plaintext\">26</div></span></td></tr>\r\n",
       "    <tr><td><span><div class=\"dni-plaintext\">Thursday</div></span></td><td><span><div class=\"dni-plaintext\">London</div></span></td><td><span><div class=\"dni-plaintext\">32</div></span></td></tr>\r\n",
       "    <tr><td><span><div class=\"dni-plaintext\">Friday</div></span></td><td><span><div class=\"dni-plaintext\">London</div></span></td><td><span><div class=\"dni-plaintext\">40</div></span></td></tr>\r\n",
       "    <tr><td><span><div class=\"dni-plaintext\">Saturday</div></span></td><td><span><div class=\"dni-plaintext\">London</div></span></td><td><span><div class=\"dni-plaintext\">29</div></span></td></tr>\r\n",
       "    <tr><td><span><div class=\"dni-plaintext\">Sunday</div></span></td><td><span><div class=\"dni-plaintext\">London</div></span></td><td><span><div class=\"dni-plaintext\">31</div></span></td></tr>\r\n",
       "    <tr><td><span><div class=\"dni-plaintext\">Monday</div></span></td><td><span><div class=\"dni-plaintext\">Edinburgh</div></span></td><td><span><div class=\"dni-plaintext\">26</div></span></td></tr>\r\n",
       "    <tr><td><span><div class=\"dni-plaintext\">Tuesday</div></span></td><td><span><div class=\"dni-plaintext\">Edinburgh</div></span></td><td><span><div class=\"dni-plaintext\">48</div></span></td></tr>\r\n",
       "    <tr><td><span><div class=\"dni-plaintext\">Wednesday</div></span></td><td><span><div class=\"dni-plaintext\">Edinburgh</div></span></td><td><span><div class=\"dni-plaintext\">43</div></span></td></tr>\r\n",
       "    <tr><td><span><div class=\"dni-plaintext\">Thursday</div></span></td><td><span><div class=\"dni-plaintext\">Edinburgh</div></span></td><td><span><div class=\"dni-plaintext\">39</div></span></td></tr>\r\n",
       "    <tr><td><span><div class=\"dni-plaintext\">Friday</div></span></td><td><span><div class=\"dni-plaintext\">Edinburgh</div></span></td><td><span><div class=\"dni-plaintext\">38</div></span></td></tr>\r\n",
       "    <tr><td><span><div class=\"dni-plaintext\">Saturday</div></span></td><td><span><div class=\"dni-plaintext\">Edinburgh</div></span></td><td><span><div class=\"dni-plaintext\">27</div></span></td></tr>\r\n",
       "    <tr><td><span><div class=\"dni-plaintext\">Sunday</div></span></td><td><span><div class=\"dni-plaintext\">Edinburgh</div></span></td><td><span><div class=\"dni-plaintext\">42</div></span></td></tr>\r\n",
       "    <tr><td><span><div class=\"dni-plaintext\">Monday</div></span></td><td><span><div class=\"dni-plaintext\">Glasgow</div></span></td><td><span><div class=\"dni-plaintext\">30</div></span></td></tr>\r\n",
       "    <tr><td><span><div class=\"dni-plaintext\">Tuesday</div></span></td><td><span><div class=\"dni-plaintext\">Glasgow</div></span></td><td><span><div class=\"dni-plaintext\">36</div></span></td></tr>\r\n",
       "    <tr><td><span><div class=\"dni-plaintext\">Wednesday</div></span></td><td><span><div class=\"dni-plaintext\">Glasgow</div></span></td><td><span><div class=\"dni-plaintext\">33</div></span></td></tr>\r\n",
       "    <tr><td><span><div class=\"dni-plaintext\">Thursday</div></span></td><td><span><div class=\"dni-plaintext\">Glasgow</div></span></td><td><span><div class=\"dni-plaintext\">29</div></span></td></tr>\r\n",
       "    <tr><td><span><div class=\"dni-plaintext\">Friday</div></span></td><td><span><div class=\"dni-plaintext\">Glasgow</div></span></td><td><span><div class=\"dni-plaintext\">36</div></span></td></tr>\r\n",
       "    <tr><td><span><div class=\"dni-plaintext\">Saturday</div></span></td><td><span><div class=\"dni-plaintext\">Glasgow</div></span></td><td><span><div class=\"dni-plaintext\">34</div></span></td></tr>\r\n",
       "    <tr><td><span><div class=\"dni-plaintext\">Sunday</div></span></td><td><span><div class=\"dni-plaintext\">Glasgow</div></span></td><td><span><div class=\"dni-plaintext\">23</div></span></td></tr>\r\n",
       "    <tr><td><span><div class=\"dni-plaintext\">Monday</div></span></td><td><span><div class=\"dni-plaintext\">Birmingham</div></span></td><td><span><div class=\"dni-plaintext\">34</div></span></td></tr>\r\n",
       "    <tr><td><span><div class=\"dni-plaintext\">Tuesday</div></span></td><td><span><div class=\"dni-plaintext\">Birmingham</div></span></td><td><span><div class=\"dni-plaintext\">41</div></span></td></tr>\r\n",
       "    <tr><td><span><div class=\"dni-plaintext\">Wednesday</div></span></td><td><span><div class=\"dni-plaintext\">Birmingham</div></span></td><td><span><div class=\"dni-plaintext\">46</div></span></td></tr>\r\n",
       "    <tr><td><span><div class=\"dni-plaintext\">Thursday</div></span></td><td><span><div class=\"dni-plaintext\">Birmingham</div></span></td><td><span><div class=\"dni-plaintext\">46</div></span></td></tr>\r\n",
       "    <tr><td><span><div class=\"dni-plaintext\">Friday</div></span></td><td><span><div class=\"dni-plaintext\">Birmingham</div></span></td><td><span><div class=\"dni-plaintext\">32</div></span></td></tr>\r\n",
       "    <tr><td><span><div class=\"dni-plaintext\">Saturday</div></span></td><td><span><div class=\"dni-plaintext\">Birmingham</div></span></td><td><span><div class=\"dni-plaintext\">20</div></span></td></tr>\r\n",
       "    <tr><td><span><div class=\"dni-plaintext\">Sunday</div></span></td><td><span><div class=\"dni-plaintext\">Birmingham</div></span></td><td><span><div class=\"dni-plaintext\">41</div></span></td></tr>\r\n",
       "    <tr><td><span><div class=\"dni-plaintext\">Monday</div></span></td><td><span><div class=\"dni-plaintext\">Cardiff</div></span></td><td><span><div class=\"dni-plaintext\">37</div></span></td></tr>\r\n",
       "    <tr><td><span><div class=\"dni-plaintext\">Tuesday</div></span></td><td><span><div class=\"dni-plaintext\">Cardiff</div></span></td><td><span><div class=\"dni-plaintext\">41</div></span></td></tr>\r\n",
       "    <tr><td><span><div class=\"dni-plaintext\">Wednesday</div></span></td><td><span><div class=\"dni-plaintext\">Cardiff</div></span></td><td><span><div class=\"dni-plaintext\">40</div></span></td></tr>\r\n",
       "    <tr><td><span><div class=\"dni-plaintext\">Thursday</div></span></td><td><span><div class=\"dni-plaintext\">Cardiff</div></span></td><td><span><div class=\"dni-plaintext\">28</div></span></td></tr>\r\n",
       "    <tr><td><span><div class=\"dni-plaintext\">Friday</div></span></td><td><span><div class=\"dni-plaintext\">Cardiff</div></span></td><td><span><div class=\"dni-plaintext\">43</div></span></td></tr>\r\n",
       "    <tr><td><span><div class=\"dni-plaintext\">Saturday</div></span></td><td><span><div class=\"dni-plaintext\">Cardiff</div></span></td><td><span><div class=\"dni-plaintext\">44</div></span></td></tr>\r\n",
       "    <tr><td><span><div class=\"dni-plaintext\">Sunday</div></span></td><td><span><div class=\"dni-plaintext\">Cardiff</div></span></td><td><span><div class=\"dni-plaintext\">31</div></span></td></tr>\r\n",
       "  </tbody>\r\n",
       "</table></div></details>\r\n",
       "</td><td>5.4</td><td>4.629</td><td>4.4</td><td>4.8</td><td>4.971</td><td>5.486</td><td>5.371</td></tr> </table>"
      ]
     },
     "metadata": {},
     "output_type": "display_data"
    }
   ],
   "source": [
    "\n",
    "$html        = $pivoted |   ConvertTo-Html -As Table -Fragment \n",
    "foreach   ( $rowHeading in $pivoted.$PivotBy) {\n",
    "    $tree = $DataToPivot.where({$_.$pivotby -eq $rowHeading}) | Out-TreeView -ExcludeProperty $PivotBy -TitleHtml $rowHeading \n",
    "    $html = $html -replace \"<td>\\s*$rowHeading\\s*</td>\" ,\"<td>$tree</td>\"\n",
    "}\n",
    "[Microsoft.DotNet.Interactive.Kernel]::HTML($html) | Out-Display "
   ]
  }
 ],
 "metadata": {
  "kernelspec": {
   "display_name": ".NET (PowerShell)",
   "language": "PowerShell",
   "name": ".net-pwsh"
  },
  "language_info": {
   "name": "PowerShell"
  }
 },
 "nbformat": 4,
 "nbformat_minor": 2
}
