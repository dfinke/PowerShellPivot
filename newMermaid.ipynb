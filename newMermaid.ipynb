{
 "cells": [
  {
   "cell_type": "code",
   "execution_count": 1,
   "metadata": {
    "dotnet_interactive": {
     "language": "pwsh"
    },
    "vscode": {
     "languageId": "dotnet-interactive.pwsh"
    }
   },
   "outputs": [],
   "source": [
    ". .\\NotebookOutput.ps1"
   ]
  },
  {
   "cell_type": "code",
   "execution_count": 2,
   "metadata": {
    "dotnet_interactive": {
     "language": "pwsh"
    },
    "vscode": {
     "languageId": "dotnet-interactive.pwsh"
    }
   },
   "outputs": [
    {
     "data": {
      "text/html": [
       "<div class=\"mermaidMarkdownContainer\" style=\"background-color:white\">\r\n",
       "<script type=\"text/javascript\">\r\n",
       "\r\n",
       "loadMermaid_f2ebd3c02598416ba0076bae9db16be8 = () => {\r\n",
       " \r\n",
       "        (require.config({ 'paths': { 'context': '9.1.3', 'mermaidUri' : 'https://cdn.jsdelivr.net/npm/mermaid@9.1.3/dist/mermaid.min', 'urlArgs': 'cacheBuster=8972d730eb9448cd9c068f9beb6890f1' }}) || require)(['mermaidUri'], (mermaid) => {\r\n",
       "\r\n",
       "            let renderTarget = document.getElementById('f2ebd3c02598416ba0076bae9db16be8');\r\n",
       "            mermaid.mermaidAPI.render( \r\n",
       "                'mermaid_f2ebd3c02598416ba0076bae9db16be8', \r\n",
       "                `graph TD;\n",
       "    A-->B;\n",
       "    A-->C;\n",
       "    B-->D;\n",
       "    C-->D;\n",
       "    D-->E;`, \r\n",
       "                g => {\r\n",
       "                    renderTarget.innerHTML = g \r\n",
       "                });\r\n",
       "        },\r\n",
       "        (error) => {\r\n",
       "            console.log(error);\r\n",
       "        });\r\n",
       "}\r\n",
       "// ensure `require` is available globally\r\n",
       "if ((typeof(require) !==  typeof(Function)) || (typeof(require.config) !== typeof(Function))) {\r\n",
       "    let require_script = document.createElement('script');\r\n",
       "    require_script.setAttribute('src', 'https://cdnjs.cloudflare.com/ajax/libs/require.js/2.3.6/require.min.js');\r\n",
       "    require_script.setAttribute('type', 'text/javascript');\r\n",
       "    \r\n",
       "    \r\n",
       "    require_script.onload = function() {\r\n",
       "        loadMermaid_f2ebd3c02598416ba0076bae9db16be8();\r\n",
       "    };\r\n",
       "\r\n",
       "    document.getElementsByTagName('head')[0].appendChild(require_script);\r\n",
       "}\r\n",
       "else {\r\n",
       "    loadMermaid_f2ebd3c02598416ba0076bae9db16be8();\r\n",
       "}\r\n",
       "\r\n",
       "</script>\r\n",
       "<div id=\"f2ebd3c02598416ba0076bae9db16be8\"></div>\r\n",
       "</div>\r\n"
      ]
     },
     "metadata": {},
     "output_type": "display_data"
    }
   ],
   "source": [
    "@\"\n",
    "graph TD;\n",
    "    A-->B;\n",
    "    A-->C;\n",
    "    B-->D;\n",
    "    C-->D;\n",
    "    D-->E;\n",
    "\"@ | Out-Mermaid"
   ]
  },
  {
   "cell_type": "code",
   "execution_count": 3,
   "metadata": {
    "dotnet_interactive": {
     "language": "pwsh"
    },
    "vscode": {
     "languageId": "dotnet-interactive.pwsh"
    }
   },
   "outputs": [
    {
     "data": {
      "text/html": [
       "<div class=\"mermaidMarkdownContainer\" style=\"background-color:white\">\r\n",
       "<script type=\"text/javascript\">\r\n",
       "\r\n",
       "loadMermaid_3116dddae0b645948a25c5685eebaf59 = () => {\r\n",
       " \r\n",
       "        (require.config({ 'paths': { 'context': '9.1.3', 'mermaidUri' : 'https://cdn.jsdelivr.net/npm/mermaid@9.1.3/dist/mermaid.min', 'urlArgs': 'cacheBuster=8972d730eb9448cd9c068f9beb6890f1' }}) || require)(['mermaidUri'], (mermaid) => {\r\n",
       "\r\n",
       "            let renderTarget = document.getElementById('3116dddae0b645948a25c5685eebaf59');\r\n",
       "            mermaid.mermaidAPI.render( \r\n",
       "                'mermaid_3116dddae0b645948a25c5685eebaf59', \r\n",
       "                `sequenceDiagram\n",
       "    participant Alice\n",
       "    participant Bob\n",
       "    Alice->>John: Hello John, how are you?\n",
       "    loop Healthcheck\n",
       "        John->>John: Fight against hypochondria\n",
       "    end\n",
       "    Note right of John: Rational thoughts <br/>prevail!\n",
       "    John-->>Alice: Great!\n",
       "    John->>Bob: How about you?\n",
       "    Bob-->>John: Jolly good!`, \r\n",
       "                g => {\r\n",
       "                    renderTarget.innerHTML = g \r\n",
       "                });\r\n",
       "        },\r\n",
       "        (error) => {\r\n",
       "            console.log(error);\r\n",
       "        });\r\n",
       "}\r\n",
       "// ensure `require` is available globally\r\n",
       "if ((typeof(require) !==  typeof(Function)) || (typeof(require.config) !== typeof(Function))) {\r\n",
       "    let require_script = document.createElement('script');\r\n",
       "    require_script.setAttribute('src', 'https://cdnjs.cloudflare.com/ajax/libs/require.js/2.3.6/require.min.js');\r\n",
       "    require_script.setAttribute('type', 'text/javascript');\r\n",
       "    \r\n",
       "    \r\n",
       "    require_script.onload = function() {\r\n",
       "        loadMermaid_3116dddae0b645948a25c5685eebaf59();\r\n",
       "    };\r\n",
       "\r\n",
       "    document.getElementsByTagName('head')[0].appendChild(require_script);\r\n",
       "}\r\n",
       "else {\r\n",
       "    loadMermaid_3116dddae0b645948a25c5685eebaf59();\r\n",
       "}\r\n",
       "\r\n",
       "</script>\r\n",
       "<div id=\"3116dddae0b645948a25c5685eebaf59\"></div>\r\n",
       "</div>\r\n"
      ]
     },
     "metadata": {},
     "output_type": "display_data"
    }
   ],
   "source": [
    "@'\n",
    "sequenceDiagram\n",
    "    participant Alice\n",
    "    participant Bob\n",
    "    Alice->>John: Hello John, how are you?\n",
    "    loop Healthcheck\n",
    "        John->>John: Fight against hypochondria\n",
    "    end\n",
    "    Note right of John: Rational thoughts <br/>prevail!\n",
    "    John-->>Alice: Great!\n",
    "    John->>Bob: How about you?\n",
    "    Bob-->>John: Jolly good!\n",
    "'@ | Out-Mermaid"
   ]
  }
 ],
 "metadata": {
  "kernelspec": {
   "display_name": ".NET (PowerShell)",
   "language": "PowerShell",
   "name": ".net-pwsh"
  },
  "language_info": {
   "name": "PowerShell"
  }
 },
 "nbformat": 4,
 "nbformat_minor": 2
}
